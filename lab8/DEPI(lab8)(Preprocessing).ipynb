{
  "nbformat": 4,
  "nbformat_minor": 0,
  "metadata": {
    "colab": {
      "provenance": []
    },
    "kernelspec": {
      "name": "python3",
      "display_name": "Python 3"
    },
    "language_info": {
      "name": "python"
    }
  },
  "cells": [
    {
      "cell_type": "code",
      "execution_count": null,
      "metadata": {
        "id": "r6nGCskAe8gY"
      },
      "outputs": [],
      "source": [
        "a= \"Hello @text mining World! I'm here to learn from cls right?\""
      ]
    },
    {
      "cell_type": "code",
      "source": [
        "print(a[0])\n",
        "print(a[50])"
      ],
      "metadata": {
        "colab": {
          "base_uri": "https://localhost:8080/"
        },
        "id": "Gn4iq6H-gg9Z",
        "outputId": "b5ccc960-bb73-4236-dbb3-5a5e92213bd2"
      },
      "execution_count": null,
      "outputs": [
        {
          "output_type": "stream",
          "name": "stdout",
          "text": [
            "H\n",
            "l\n"
          ]
        }
      ]
    },
    {
      "cell_type": "code",
      "source": [
        "l = len(a)\n",
        "l"
      ],
      "metadata": {
        "colab": {
          "base_uri": "https://localhost:8080/"
        },
        "id": "JnXcBhAqgnIF",
        "outputId": "5125af8b-8a4c-4b70-f73e-4aeacdc1c052"
      },
      "execution_count": null,
      "outputs": [
        {
          "output_type": "execute_result",
          "data": {
            "text/plain": [
              "59"
            ]
          },
          "metadata": {},
          "execution_count": 5
        }
      ]
    },
    {
      "cell_type": "code",
      "source": [
        "print(a[l-1])"
      ],
      "metadata": {
        "colab": {
          "base_uri": "https://localhost:8080/"
        },
        "id": "2zCuTXJUhIo7",
        "outputId": "a5df30b3-38ca-41a6-d2cb-37ab52f69a05"
      },
      "execution_count": null,
      "outputs": [
        {
          "output_type": "stream",
          "name": "stdout",
          "text": [
            "?\n"
          ]
        }
      ]
    },
    {
      "cell_type": "code",
      "source": [
        "import nltk\n",
        "b=a.lower()\n",
        "b"
      ],
      "metadata": {
        "colab": {
          "base_uri": "https://localhost:8080/",
          "height": 35
        },
        "id": "XlrsiYx_g6YF",
        "outputId": "43665e80-995d-47d1-fdf4-3a72fcc6a9f8"
      },
      "execution_count": null,
      "outputs": [
        {
          "output_type": "execute_result",
          "data": {
            "text/plain": [
              "\"hello @text mining world! i'm here to learn from cls right?\""
            ],
            "application/vnd.google.colaboratory.intrinsic+json": {
              "type": "string"
            }
          },
          "metadata": {},
          "execution_count": 8
        }
      ]
    },
    {
      "cell_type": "code",
      "source": [
        "import string\n",
        "print(string.punctuation)"
      ],
      "metadata": {
        "colab": {
          "base_uri": "https://localhost:8080/"
        },
        "id": "HXJaGu8mhiBT",
        "outputId": "fce53f72-73c2-44c8-e4b5-943e3f63880b"
      },
      "execution_count": 1,
      "outputs": [
        {
          "output_type": "stream",
          "name": "stdout",
          "text": [
            "!\"#$%&'()*+,-./:;<=>?@[\\]^_`{|}~\n"
          ]
        }
      ]
    },
    {
      "cell_type": "code",
      "source": [
        "c=''.join([char for char in b if char not in string.punctuation])\n",
        "print(c)"
      ],
      "metadata": {
        "colab": {
          "base_uri": "https://localhost:8080/"
        },
        "id": "oDPq_ksZhq-d",
        "outputId": "280b37ab-4e1e-463c-a017-c14a3473a889"
      },
      "execution_count": null,
      "outputs": [
        {
          "output_type": "stream",
          "name": "stdout",
          "text": [
            "hello text mining world im here to learn from cls right\n"
          ]
        }
      ]
    },
    {
      "cell_type": "code",
      "source": [
        "from nltk.tokenize import word_tokenize\n",
        "\n",
        "nltk.download('punkt')\n",
        "\n",
        "print(word_tokenize(b))\n",
        "print(word_tokenize(c))"
      ],
      "metadata": {
        "colab": {
          "base_uri": "https://localhost:8080/"
        },
        "id": "aek4-Bx4h5uf",
        "outputId": "a6f47c15-c556-453d-95a7-73c8556f43fb"
      },
      "execution_count": null,
      "outputs": [
        {
          "output_type": "stream",
          "name": "stderr",
          "text": [
            "[nltk_data] Downloading package punkt to /root/nltk_data...\n",
            "[nltk_data]   Unzipping tokenizers/punkt.zip.\n"
          ]
        },
        {
          "output_type": "stream",
          "name": "stdout",
          "text": [
            "['hello', '@', 'text', 'mining', 'world', '!', 'i', \"'m\", 'here', 'to', 'learn', 'from', 'cls', 'right', '?']\n",
            "['hello', 'text', 'mining', 'world', 'im', 'here', 'to', 'learn', 'from', 'cls', 'right']\n"
          ]
        }
      ]
    },
    {
      "cell_type": "code",
      "source": [
        "from nltk.tokenize import RegexpTokenizer\n",
        "\n",
        "tokenizer=RegexpTokenizer('\\w+')\n",
        "tokenizer.tokenize(b)"
      ],
      "metadata": {
        "colab": {
          "base_uri": "https://localhost:8080/"
        },
        "id": "pBK3r_QFiNpl",
        "outputId": "8a0734d2-a985-4f4a-c7fc-65b1aeac40ba"
      },
      "execution_count": null,
      "outputs": [
        {
          "output_type": "execute_result",
          "data": {
            "text/plain": [
              "['hello',\n",
              " 'text',\n",
              " 'mining',\n",
              " 'world',\n",
              " 'i',\n",
              " 'm',\n",
              " 'here',\n",
              " 'to',\n",
              " 'learn',\n",
              " 'from',\n",
              " 'cls',\n",
              " 'right']"
            ]
          },
          "metadata": {},
          "execution_count": 12
        }
      ]
    },
    {
      "cell_type": "code",
      "source": [
        "from nltk.tokenize import sent_tokenize\n",
        "print(sent_tokenize(b))\n",
        "print(sent_tokenize(c))"
      ],
      "metadata": {
        "colab": {
          "base_uri": "https://localhost:8080/"
        },
        "id": "rrv4xwhCjAYV",
        "outputId": "24a6b583-e7bc-4f59-d4ad-67b8e99f9a7e"
      },
      "execution_count": null,
      "outputs": [
        {
          "output_type": "stream",
          "name": "stdout",
          "text": [
            "['hello @text mining world!', \"i'm here to learn from cls right?\"]\n",
            "['hello text mining world im here to learn from cls right']\n"
          ]
        }
      ]
    },
    {
      "cell_type": "code",
      "source": [
        "import pandas as pd\n",
        "ts_lyrics=pd.read_csv('/content/drive/MyDrive/taylor_swift_lyrics.csv')"
      ],
      "metadata": {
        "id": "M7W_OD8yj5Og"
      },
      "execution_count": 2,
      "outputs": []
    },
    {
      "cell_type": "code",
      "source": [
        "ts_lyrics.head()"
      ],
      "metadata": {
        "colab": {
          "base_uri": "https://localhost:8080/",
          "height": 206
        },
        "id": "UjgIXHqtkhvq",
        "outputId": "a260df2e-1d4a-4436-e43f-f6f49e546b07"
      },
      "execution_count": 3,
      "outputs": [
        {
          "output_type": "execute_result",
          "data": {
            "text/plain": [
              "         Artist           Album                   Title   \\\n",
              "0  Taylor Swift   Taylor Swift                Tim McGraw   \n",
              "1  Taylor Swift   Taylor Swift           Picture to Burn   \n",
              "2  Taylor Swift   Taylor Swift   Teardrops on my Guitar    \n",
              "3  Taylor Swift   Taylor Swift    A Place in This World    \n",
              "4  Taylor Swift   Taylor Swift              Cold As You    \n",
              "\n",
              "                                              Lyrics  \n",
              "0  He said the way my blue eyes shinx\\nPut those ...  \n",
              "1  State the obvious, I didn't get my perfect fan...  \n",
              "2  Drew looks at me,\\nI fake a smile so he won't ...  \n",
              "3  I don't know what I want, so don't ask me\\n'Ca...  \n",
              "4  You have a way of coming easily to me\\nAnd whe...  "
            ],
            "text/html": [
              "\n",
              "  <div id=\"df-00017874-5ca7-4667-87d9-5d22d46a80a5\" class=\"colab-df-container\">\n",
              "    <div>\n",
              "<style scoped>\n",
              "    .dataframe tbody tr th:only-of-type {\n",
              "        vertical-align: middle;\n",
              "    }\n",
              "\n",
              "    .dataframe tbody tr th {\n",
              "        vertical-align: top;\n",
              "    }\n",
              "\n",
              "    .dataframe thead th {\n",
              "        text-align: right;\n",
              "    }\n",
              "</style>\n",
              "<table border=\"1\" class=\"dataframe\">\n",
              "  <thead>\n",
              "    <tr style=\"text-align: right;\">\n",
              "      <th></th>\n",
              "      <th>Artist</th>\n",
              "      <th>Album</th>\n",
              "      <th>Title</th>\n",
              "      <th>Lyrics</th>\n",
              "    </tr>\n",
              "  </thead>\n",
              "  <tbody>\n",
              "    <tr>\n",
              "      <th>0</th>\n",
              "      <td>Taylor Swift</td>\n",
              "      <td>Taylor Swift</td>\n",
              "      <td>Tim McGraw</td>\n",
              "      <td>He said the way my blue eyes shinx\\nPut those ...</td>\n",
              "    </tr>\n",
              "    <tr>\n",
              "      <th>1</th>\n",
              "      <td>Taylor Swift</td>\n",
              "      <td>Taylor Swift</td>\n",
              "      <td>Picture to Burn</td>\n",
              "      <td>State the obvious, I didn't get my perfect fan...</td>\n",
              "    </tr>\n",
              "    <tr>\n",
              "      <th>2</th>\n",
              "      <td>Taylor Swift</td>\n",
              "      <td>Taylor Swift</td>\n",
              "      <td>Teardrops on my Guitar</td>\n",
              "      <td>Drew looks at me,\\nI fake a smile so he won't ...</td>\n",
              "    </tr>\n",
              "    <tr>\n",
              "      <th>3</th>\n",
              "      <td>Taylor Swift</td>\n",
              "      <td>Taylor Swift</td>\n",
              "      <td>A Place in This World</td>\n",
              "      <td>I don't know what I want, so don't ask me\\n'Ca...</td>\n",
              "    </tr>\n",
              "    <tr>\n",
              "      <th>4</th>\n",
              "      <td>Taylor Swift</td>\n",
              "      <td>Taylor Swift</td>\n",
              "      <td>Cold As You</td>\n",
              "      <td>You have a way of coming easily to me\\nAnd whe...</td>\n",
              "    </tr>\n",
              "  </tbody>\n",
              "</table>\n",
              "</div>\n",
              "    <div class=\"colab-df-buttons\">\n",
              "\n",
              "  <div class=\"colab-df-container\">\n",
              "    <button class=\"colab-df-convert\" onclick=\"convertToInteractive('df-00017874-5ca7-4667-87d9-5d22d46a80a5')\"\n",
              "            title=\"Convert this dataframe to an interactive table.\"\n",
              "            style=\"display:none;\">\n",
              "\n",
              "  <svg xmlns=\"http://www.w3.org/2000/svg\" height=\"24px\" viewBox=\"0 -960 960 960\">\n",
              "    <path d=\"M120-120v-720h720v720H120Zm60-500h600v-160H180v160Zm220 220h160v-160H400v160Zm0 220h160v-160H400v160ZM180-400h160v-160H180v160Zm440 0h160v-160H620v160ZM180-180h160v-160H180v160Zm440 0h160v-160H620v160Z\"/>\n",
              "  </svg>\n",
              "    </button>\n",
              "\n",
              "  <style>\n",
              "    .colab-df-container {\n",
              "      display:flex;\n",
              "      gap: 12px;\n",
              "    }\n",
              "\n",
              "    .colab-df-convert {\n",
              "      background-color: #E8F0FE;\n",
              "      border: none;\n",
              "      border-radius: 50%;\n",
              "      cursor: pointer;\n",
              "      display: none;\n",
              "      fill: #1967D2;\n",
              "      height: 32px;\n",
              "      padding: 0 0 0 0;\n",
              "      width: 32px;\n",
              "    }\n",
              "\n",
              "    .colab-df-convert:hover {\n",
              "      background-color: #E2EBFA;\n",
              "      box-shadow: 0px 1px 2px rgba(60, 64, 67, 0.3), 0px 1px 3px 1px rgba(60, 64, 67, 0.15);\n",
              "      fill: #174EA6;\n",
              "    }\n",
              "\n",
              "    .colab-df-buttons div {\n",
              "      margin-bottom: 4px;\n",
              "    }\n",
              "\n",
              "    [theme=dark] .colab-df-convert {\n",
              "      background-color: #3B4455;\n",
              "      fill: #D2E3FC;\n",
              "    }\n",
              "\n",
              "    [theme=dark] .colab-df-convert:hover {\n",
              "      background-color: #434B5C;\n",
              "      box-shadow: 0px 1px 3px 1px rgba(0, 0, 0, 0.15);\n",
              "      filter: drop-shadow(0px 1px 2px rgba(0, 0, 0, 0.3));\n",
              "      fill: #FFFFFF;\n",
              "    }\n",
              "  </style>\n",
              "\n",
              "    <script>\n",
              "      const buttonEl =\n",
              "        document.querySelector('#df-00017874-5ca7-4667-87d9-5d22d46a80a5 button.colab-df-convert');\n",
              "      buttonEl.style.display =\n",
              "        google.colab.kernel.accessAllowed ? 'block' : 'none';\n",
              "\n",
              "      async function convertToInteractive(key) {\n",
              "        const element = document.querySelector('#df-00017874-5ca7-4667-87d9-5d22d46a80a5');\n",
              "        const dataTable =\n",
              "          await google.colab.kernel.invokeFunction('convertToInteractive',\n",
              "                                                    [key], {});\n",
              "        if (!dataTable) return;\n",
              "\n",
              "        const docLinkHtml = 'Like what you see? Visit the ' +\n",
              "          '<a target=\"_blank\" href=https://colab.research.google.com/notebooks/data_table.ipynb>data table notebook</a>'\n",
              "          + ' to learn more about interactive tables.';\n",
              "        element.innerHTML = '';\n",
              "        dataTable['output_type'] = 'display_data';\n",
              "        await google.colab.output.renderOutput(dataTable, element);\n",
              "        const docLink = document.createElement('div');\n",
              "        docLink.innerHTML = docLinkHtml;\n",
              "        element.appendChild(docLink);\n",
              "      }\n",
              "    </script>\n",
              "  </div>\n",
              "\n",
              "\n",
              "<div id=\"df-e6d3d82d-df16-4f80-be92-eb624ef9565e\">\n",
              "  <button class=\"colab-df-quickchart\" onclick=\"quickchart('df-e6d3d82d-df16-4f80-be92-eb624ef9565e')\"\n",
              "            title=\"Suggest charts\"\n",
              "            style=\"display:none;\">\n",
              "\n",
              "<svg xmlns=\"http://www.w3.org/2000/svg\" height=\"24px\"viewBox=\"0 0 24 24\"\n",
              "     width=\"24px\">\n",
              "    <g>\n",
              "        <path d=\"M19 3H5c-1.1 0-2 .9-2 2v14c0 1.1.9 2 2 2h14c1.1 0 2-.9 2-2V5c0-1.1-.9-2-2-2zM9 17H7v-7h2v7zm4 0h-2V7h2v10zm4 0h-2v-4h2v4z\"/>\n",
              "    </g>\n",
              "</svg>\n",
              "  </button>\n",
              "\n",
              "<style>\n",
              "  .colab-df-quickchart {\n",
              "      --bg-color: #E8F0FE;\n",
              "      --fill-color: #1967D2;\n",
              "      --hover-bg-color: #E2EBFA;\n",
              "      --hover-fill-color: #174EA6;\n",
              "      --disabled-fill-color: #AAA;\n",
              "      --disabled-bg-color: #DDD;\n",
              "  }\n",
              "\n",
              "  [theme=dark] .colab-df-quickchart {\n",
              "      --bg-color: #3B4455;\n",
              "      --fill-color: #D2E3FC;\n",
              "      --hover-bg-color: #434B5C;\n",
              "      --hover-fill-color: #FFFFFF;\n",
              "      --disabled-bg-color: #3B4455;\n",
              "      --disabled-fill-color: #666;\n",
              "  }\n",
              "\n",
              "  .colab-df-quickchart {\n",
              "    background-color: var(--bg-color);\n",
              "    border: none;\n",
              "    border-radius: 50%;\n",
              "    cursor: pointer;\n",
              "    display: none;\n",
              "    fill: var(--fill-color);\n",
              "    height: 32px;\n",
              "    padding: 0;\n",
              "    width: 32px;\n",
              "  }\n",
              "\n",
              "  .colab-df-quickchart:hover {\n",
              "    background-color: var(--hover-bg-color);\n",
              "    box-shadow: 0 1px 2px rgba(60, 64, 67, 0.3), 0 1px 3px 1px rgba(60, 64, 67, 0.15);\n",
              "    fill: var(--button-hover-fill-color);\n",
              "  }\n",
              "\n",
              "  .colab-df-quickchart-complete:disabled,\n",
              "  .colab-df-quickchart-complete:disabled:hover {\n",
              "    background-color: var(--disabled-bg-color);\n",
              "    fill: var(--disabled-fill-color);\n",
              "    box-shadow: none;\n",
              "  }\n",
              "\n",
              "  .colab-df-spinner {\n",
              "    border: 2px solid var(--fill-color);\n",
              "    border-color: transparent;\n",
              "    border-bottom-color: var(--fill-color);\n",
              "    animation:\n",
              "      spin 1s steps(1) infinite;\n",
              "  }\n",
              "\n",
              "  @keyframes spin {\n",
              "    0% {\n",
              "      border-color: transparent;\n",
              "      border-bottom-color: var(--fill-color);\n",
              "      border-left-color: var(--fill-color);\n",
              "    }\n",
              "    20% {\n",
              "      border-color: transparent;\n",
              "      border-left-color: var(--fill-color);\n",
              "      border-top-color: var(--fill-color);\n",
              "    }\n",
              "    30% {\n",
              "      border-color: transparent;\n",
              "      border-left-color: var(--fill-color);\n",
              "      border-top-color: var(--fill-color);\n",
              "      border-right-color: var(--fill-color);\n",
              "    }\n",
              "    40% {\n",
              "      border-color: transparent;\n",
              "      border-right-color: var(--fill-color);\n",
              "      border-top-color: var(--fill-color);\n",
              "    }\n",
              "    60% {\n",
              "      border-color: transparent;\n",
              "      border-right-color: var(--fill-color);\n",
              "    }\n",
              "    80% {\n",
              "      border-color: transparent;\n",
              "      border-right-color: var(--fill-color);\n",
              "      border-bottom-color: var(--fill-color);\n",
              "    }\n",
              "    90% {\n",
              "      border-color: transparent;\n",
              "      border-bottom-color: var(--fill-color);\n",
              "    }\n",
              "  }\n",
              "</style>\n",
              "\n",
              "  <script>\n",
              "    async function quickchart(key) {\n",
              "      const quickchartButtonEl =\n",
              "        document.querySelector('#' + key + ' button');\n",
              "      quickchartButtonEl.disabled = true;  // To prevent multiple clicks.\n",
              "      quickchartButtonEl.classList.add('colab-df-spinner');\n",
              "      try {\n",
              "        const charts = await google.colab.kernel.invokeFunction(\n",
              "            'suggestCharts', [key], {});\n",
              "      } catch (error) {\n",
              "        console.error('Error during call to suggestCharts:', error);\n",
              "      }\n",
              "      quickchartButtonEl.classList.remove('colab-df-spinner');\n",
              "      quickchartButtonEl.classList.add('colab-df-quickchart-complete');\n",
              "    }\n",
              "    (() => {\n",
              "      let quickchartButtonEl =\n",
              "        document.querySelector('#df-e6d3d82d-df16-4f80-be92-eb624ef9565e button');\n",
              "      quickchartButtonEl.style.display =\n",
              "        google.colab.kernel.accessAllowed ? 'block' : 'none';\n",
              "    })();\n",
              "  </script>\n",
              "</div>\n",
              "\n",
              "    </div>\n",
              "  </div>\n"
            ],
            "application/vnd.google.colaboratory.intrinsic+json": {
              "type": "dataframe",
              "variable_name": "ts_lyrics",
              "summary": "{\n  \"name\": \"ts_lyrics\",\n  \"rows\": 132,\n  \"fields\": [\n    {\n      \"column\": \"Artist \",\n      \"properties\": {\n        \"dtype\": \"category\",\n        \"num_unique_values\": 2,\n        \"samples\": [\n          \"Taylor Swift\",\n          \"Taylor Swift \"\n        ],\n        \"semantic_type\": \"\",\n        \"description\": \"\"\n      }\n    },\n    {\n      \"column\": \"Album\",\n      \"properties\": {\n        \"dtype\": \"category\",\n        \"num_unique_values\": 8,\n        \"samples\": [\n          \"Fearless\",\n          \"reputation \"\n        ],\n        \"semantic_type\": \"\",\n        \"description\": \"\"\n      }\n    },\n    {\n      \"column\": \"Title \",\n      \"properties\": {\n        \"dtype\": \"string\",\n        \"num_unique_values\": 132,\n        \"samples\": [\n          \"We Are Never Ever Getting Back Together\",\n          \"Ready For It \"\n        ],\n        \"semantic_type\": \"\",\n        \"description\": \"\"\n      }\n    },\n    {\n      \"column\": \"Lyrics\",\n      \"properties\": {\n        \"dtype\": \"string\",\n        \"num_unique_values\": 132,\n        \"samples\": [\n          \"I remember when we broke up, the first time\\nSaying, \\\"This is it, I've had enough\\\"\\n'Cause like we hadn't seen each other in a month\\nWhen you, said you, needed space (what?)\\nThen you come around again and say\\n\\\"Baby, I miss you and I swear I'm gonna change, trust me\\\"\\nRemember how that lasted for a day?\\nI say, I hate you, we break up, you call me, I love you\\nOoh, oh-oh, oh-oh\\nWe called it off again last night\\nBut ooh, oh-oh, oh-oh\\nThis time I'm telling you, I'm telling you\\nWe are never ever, ever getting back together\\nWe are never ever, ever getting back together\\nYou go talk to your friends, talk to my friends, talk to me\\nBut we are never ever, ever, ever getting back together\\nLike, ever\\nI'm really gonna miss you picking fights\\nAnd me, falling for it screaming that I'm right\\nAnd you, would hide away and find your peace of mind\\nWith some indie record that's much cooler than mine\\nOoh, oh-oh, oh-oh\\nYou called me up again tonight\\nBut ooh, oh-oh, oh-oh\\nThis time I'm telling you, I'm telling you\\nWe are never ever, ever getting back together\\nWe are never ever, ever getting back together\\nYou go talk to your friends, talk to my friends, talk to me (talk to me)\\nBut, we are never ever, ever, ever getting back together\\nOoh, oh-oh, oh-oh yeah\\nOoh, oh-oh, oh-oh-oh yeah\\nOoh, oh-oh, oh-oh yeah\\nOh-oh-oh\\nI used to think that we were forever ever, ever\\nAnd I used to say, \\\"Never say never\\\"\\n\\\"Huh, so he calls me up and he's like, I still love you\\nAnd I'm like I just I mean this is exhausting, you know\\nLike we are never getting back together like, ever\\\"\\nWe are never ever, ever getting back together\\nWe are never ever, ever getting back together\\nYou go talk to your friends, talk to my friends, talk to me\\nBut we are never ever ever ever getting back together\\n(We) ooh, oh-oh, oh-oh\\nOoh, oh-oh, oh-oh (getting back together)\\n(We) ooh, oh-oh, oh-oh\\nOoh, oh-oh, oh-oh (getting back together)\\nYou go talk to your friends, talk to my friends, talk to me (talk to me)\\nBut we are never ever, ever, ever getting back together\\n\",\n          \"Knew he was a killer first time that I saw him\\nWonder how many girls he had loved and left haunted\\nBut if he's a ghost, then I can be a phantom\\nHoldin' him for ransom\\nSome, some boys are tryin' too hard\\nHe don't try at all, though\\nYounger than my exes but he act like such a man, so\\nI see nothing better, I keep him forever\\nLike a vendetta-ta\\nI-I-I see how this is gon' go\\nTouch me and you'll never be alone\\nI-Island breeze and lights down low\\nNo one has to know\\nIn the middle of the night, in my dreams\\nYou should see the things we do, baby\\nIn the middle of the night, in my dreams\\nI know I'm gonna be with you\\nSo I take my time\\nAre you ready for it?\\nMe, I was a robber first time that he saw me\\nStealing hearts and running off and never saying sorry\\nBut if I'm a thief, then he can join the heist\\nAnd we'll move to an island-and\\nAnd he can be my jailer, Burton to this Taylor\\nEvery lover known in comparison is a failure\\nI forget their names now, I'm so very tame now\\nNever be the same now, now\\nI-I-I see how this is gon' go\\nTouch me and you'll never be alone\\nI-Island breeze and lights down low\\nNo one has to know\\n(No one has to know)\\nIn the middle of the night, in my dreams\\nYou should see the things we do, baby\\nIn the middle of the night in my dreams\\nI know I'm gonna be with you\\nSo I take my time\\nAre you ready for it?\\nOoh, are you ready for it?\\nBaby, let the games begin\\nLet the games begin\\nLet the games begin\\nBaby, let the games begin\\nLet the games begin\\nLet the games begin\\nI-I-I see how this is gon' go\\nTouch me and you'll never be alone\\nI-Island breeze and lights down low\\nNo one has to know\\nIn the middle of the night, in my dreams\\nYou should see the things we do, baby\\nIn the middle of the night, in my dreams\\nI know I'm gonna be with you\\nSo I take my time\\nIn the middle of the night\\nBaby, let the games begin\\nLet the games begin\\nLet the games begin\\nAre you ready for it?\\nBaby, let the games begin\\nLet the games begin\\nLet the games begin\\nAre you ready for it?\\n\"\n        ],\n        \"semantic_type\": \"\",\n        \"description\": \"\"\n      }\n    }\n  ]\n}"
            }
          },
          "metadata": {},
          "execution_count": 3
        }
      ]
    },
    {
      "cell_type": "code",
      "source": [
        "ts_lyrics.iloc[0]"
      ],
      "metadata": {
        "colab": {
          "base_uri": "https://localhost:8080/"
        },
        "id": "8o31kJCkkl67",
        "outputId": "3f1194a5-991b-4cd4-c723-7e21acd26ba4"
      },
      "execution_count": null,
      "outputs": [
        {
          "output_type": "execute_result",
          "data": {
            "text/plain": [
              "Artist                                         Taylor Swift \n",
              "Album                                          Taylor Swift \n",
              "Title                                             Tim McGraw\n",
              "Lyrics     He said the way my blue eyes shinx\\nPut those ...\n",
              "Name: 0, dtype: object"
            ]
          },
          "metadata": {},
          "execution_count": 19
        }
      ]
    },
    {
      "cell_type": "code",
      "source": [
        "#before removing the line breaks\n",
        "ts_lyrics.iloc[0][3]"
      ],
      "metadata": {
        "colab": {
          "base_uri": "https://localhost:8080/",
          "height": 435
        },
        "id": "xgKCCA7dk7on",
        "outputId": "64f6ce39-3005-43f7-92ca-47453d937f97"
      },
      "execution_count": null,
      "outputs": [
        {
          "output_type": "execute_result",
          "data": {
            "text/plain": [
              "'He said the way my blue eyes shinx\\nPut those Georgia stars to shame that night\\nI said: \"That\\'s a lie.\"\\nJust a boy in a Chevy truck\\nThat had a tendency of gettin\\' stuck\\nOn back roads at night\\nAnd I was right there beside him all summer long\\nAnd then the time we woke up to find that summer had gone\\nBut when you think \"Tim McGraw\"\\nI hope you think my favorite song\\nThe one we danced to all night long\\nThe moon like a spotlight on the lake\\nWhen you think happiness\\nI hope you think \"that little black dress\"\\nThink of my head on your chest\\nAnd my old faded blue jeans\\nWhen you think Tim McGraw\\nI hope you think of me\\nSeptember saw a month of tears\\nAnd thankin\\' God that you weren\\'t here\\nTo see me like that\\nBut in a box beneath my bed\\nIs a letter that you never read\\nFrom three summers back\\nIt\\'s hard not to find it all a little bitter sweet\\nAnd lookin\\' back on all of that, it\\'s nice to believe\\nBut when you think \"Tim McGraw\"\\nI hope you think my favorite song\\nThe one we danced to all night long\\nThe moon like a spotlight on the lake\\nWhen you think happiness\\nI hope you think \"that little black dress\"\\nThink of my head on your chest\\nAnd my old faded blue jeans\\nWhen you think Tim McGraw\\nI hope you think of me\\nAnd I\\'m back for the first time since then\\nI\\'m standin\\' on your street\\nAnd there\\'s a letter left on your doorstep\\nAnd the first thing that you\\'ll read\\nIs when you think \"Tim McGraw\"\\nI hope you think my favorite song\\nSomeday you\\'ll turn your radio on\\nI hope it takes you back to that place\\nWhen you think happiness\\nI hope you think \"that little black dress\"\\nThink of my head on your chest\\nAnd my old faded blue jeans\\nWhen you think Tim McGraw\\nI hope you think of me\\nOh, think of me\\nMmm\\nYou said the way my blue eyes shined\\nPut those Georgia stars to shame that night\\nI said, \"That\\'s a lie.\"\\n'"
            ],
            "application/vnd.google.colaboratory.intrinsic+json": {
              "type": "string"
            }
          },
          "metadata": {},
          "execution_count": 20
        }
      ]
    },
    {
      "cell_type": "code",
      "source": [
        "import re\n",
        "def remove_line_breaks(text):\n",
        "  '''custom function to remove the line breaks'''\n",
        "  return re.sub(r'\\n',' ',text)"
      ],
      "metadata": {
        "id": "pPxUwNc7lMaI"
      },
      "execution_count": 4,
      "outputs": []
    },
    {
      "cell_type": "code",
      "source": [
        "ts_lyrics['Preprocessed Lyrics']=ts_lyrics['Lyrics'].apply(lambda text:remove_line_breaks(text))"
      ],
      "metadata": {
        "id": "YFLC_Ipll2jK"
      },
      "execution_count": 5,
      "outputs": []
    },
    {
      "cell_type": "code",
      "source": [
        "#after removing the line breaks\n",
        "ts_lyrics.iloc[0][4]"
      ],
      "metadata": {
        "colab": {
          "base_uri": "https://localhost:8080/",
          "height": 174
        },
        "id": "wtaGTkCamTU-",
        "outputId": "da53130a-0017-465c-ec6d-2388e26e4f40"
      },
      "execution_count": 6,
      "outputs": [
        {
          "output_type": "execute_result",
          "data": {
            "text/plain": [
              "'He said the way my blue eyes shinx Put those Georgia stars to shame that night I said: \"That\\'s a lie.\" Just a boy in a Chevy truck That had a tendency of gettin\\' stuck On back roads at night And I was right there beside him all summer long And then the time we woke up to find that summer had gone But when you think \"Tim McGraw\" I hope you think my favorite song The one we danced to all night long The moon like a spotlight on the lake When you think happiness I hope you think \"that little black dress\" Think of my head on your chest And my old faded blue jeans When you think Tim McGraw I hope you think of me September saw a month of tears And thankin\\' God that you weren\\'t here To see me like that But in a box beneath my bed Is a letter that you never read From three summers back It\\'s hard not to find it all a little bitter sweet And lookin\\' back on all of that, it\\'s nice to believe But when you think \"Tim McGraw\" I hope you think my favorite song The one we danced to all night long The moon like a spotlight on the lake When you think happiness I hope you think \"that little black dress\" Think of my head on your chest And my old faded blue jeans When you think Tim McGraw I hope you think of me And I\\'m back for the first time since then I\\'m standin\\' on your street And there\\'s a letter left on your doorstep And the first thing that you\\'ll read Is when you think \"Tim McGraw\" I hope you think my favorite song Someday you\\'ll turn your radio on I hope it takes you back to that place When you think happiness I hope you think \"that little black dress\" Think of my head on your chest And my old faded blue jeans When you think Tim McGraw I hope you think of me Oh, think of me Mmm You said the way my blue eyes shined Put those Georgia stars to shame that night I said, \"That\\'s a lie.\" '"
            ],
            "application/vnd.google.colaboratory.intrinsic+json": {
              "type": "string"
            }
          },
          "metadata": {},
          "execution_count": 6
        }
      ]
    },
    {
      "cell_type": "code",
      "source": [
        "def remove_punctuation(text):\n",
        "  return text.translate(str.maketrans('','',string.punctuation))"
      ],
      "metadata": {
        "id": "oNjJ6lGHmZBU"
      },
      "execution_count": 7,
      "outputs": []
    },
    {
      "cell_type": "code",
      "source": [
        "ts_lyrics['Preprocessed Lyrics']=ts_lyrics['Preprocessed Lyrics'].apply(lambda text:remove_punctuation(text))"
      ],
      "metadata": {
        "id": "0mvLFSpPnEWM"
      },
      "execution_count": 8,
      "outputs": []
    },
    {
      "cell_type": "code",
      "source": [
        "#after removing punctuation\n",
        "ts_lyrics.iloc[3][4]"
      ],
      "metadata": {
        "colab": {
          "base_uri": "https://localhost:8080/",
          "height": 174
        },
        "id": "fRhjQDBSnrZs",
        "outputId": "c62a7b20-b4ac-4536-d4cf-792ae1b8a293"
      },
      "execution_count": 9,
      "outputs": [
        {
          "output_type": "execute_result",
          "data": {
            "text/plain": [
              "'I dont know what I want so dont ask me Cause Im still trying to figure it out Dont know whats down this road Im just walking Trying to see through the rain coming down Even though Im not the only one who feels The way I do Im alone on my own And thats all I know Ill be strong Ill be wrong Oh but life goes on Oh Im just a girl Trying to find a place in this world Got the radio on my old blue jeans And Im wearing my heart on my sleeve Feeling lucky today got the sunshine Could you tell me what more do I need And tomorrows just a mystery oh yeah But thats okay Im alone on my own And thats all I know Ill be strong Ill be wrong Oh but life goes on Oh Im just a girl Trying to find a place in this world Maybe Im just a girl on a mission But Im ready to fly Im alone on my own And thats all I know Oh Ill be strong Ill be wrong Oh but life goes on Oh Im alone on my own And thats all I know Oh Im just a girl Trying to find a place in this world Oh Im just a girl Oh Im just a girl oh oh Oh Im just a girl '"
            ],
            "application/vnd.google.colaboratory.intrinsic+json": {
              "type": "string"
            }
          },
          "metadata": {},
          "execution_count": 9
        }
      ]
    },
    {
      "cell_type": "code",
      "source": [
        "ts_lyrics['Preprocessed Lyrics']=ts_lyrics['Preprocessed Lyrics'].str.lower()"
      ],
      "metadata": {
        "id": "WAhcHHF2ntzn"
      },
      "execution_count": 10,
      "outputs": []
    },
    {
      "cell_type": "code",
      "source": [
        "ts_lyrics.iloc[3][4]"
      ],
      "metadata": {
        "colab": {
          "base_uri": "https://localhost:8080/",
          "height": 174
        },
        "id": "qszh90piqLFo",
        "outputId": "56b90a3d-c60c-4d99-eb2d-ecb17915d2bb"
      },
      "execution_count": 11,
      "outputs": [
        {
          "output_type": "execute_result",
          "data": {
            "text/plain": [
              "'i dont know what i want so dont ask me cause im still trying to figure it out dont know whats down this road im just walking trying to see through the rain coming down even though im not the only one who feels the way i do im alone on my own and thats all i know ill be strong ill be wrong oh but life goes on oh im just a girl trying to find a place in this world got the radio on my old blue jeans and im wearing my heart on my sleeve feeling lucky today got the sunshine could you tell me what more do i need and tomorrows just a mystery oh yeah but thats okay im alone on my own and thats all i know ill be strong ill be wrong oh but life goes on oh im just a girl trying to find a place in this world maybe im just a girl on a mission but im ready to fly im alone on my own and thats all i know oh ill be strong ill be wrong oh but life goes on oh im alone on my own and thats all i know oh im just a girl trying to find a place in this world oh im just a girl oh im just a girl oh oh oh im just a girl '"
            ],
            "application/vnd.google.colaboratory.intrinsic+json": {
              "type": "string"
            }
          },
          "metadata": {},
          "execution_count": 11
        }
      ]
    },
    {
      "cell_type": "code",
      "source": [
        "from collections import Counter\n",
        "\n",
        "text=\" \".join(lyrics for lyrics in ts_lyrics['Preprocessed Lyrics'])\n",
        "split_it= text.split()\n",
        "\n",
        "counter= Counter(split_it)\n",
        "\n",
        "most_occur=counter.most_common(20)\n",
        "\n",
        "print(most_occur)"
      ],
      "metadata": {
        "colab": {
          "base_uri": "https://localhost:8080/"
        },
        "id": "mHGd_nCbqNPT",
        "outputId": "a25f6615-aa3e-4cd6-bb23-4022946e97f6"
      },
      "execution_count": null,
      "outputs": [
        {
          "output_type": "stream",
          "name": "stdout",
          "text": [
            "[('i', 2377), ('you', 2319), ('the', 1623), ('and', 1403), ('me', 885), ('to', 843), ('a', 787), ('in', 686), ('it', 674), ('my', 642), ('of', 492), ('your', 475), ('we', 441), ('that', 436), ('all', 436), ('but', 428), ('like', 406), ('im', 404), ('this', 394), ('know', 380)]\n"
          ]
        }
      ]
    },
    {
      "cell_type": "code",
      "source": [
        "from wordcloud import WordCloud\n",
        "?WordCloud"
      ],
      "metadata": {
        "id": "vcKeUJFArkH6"
      },
      "execution_count": null,
      "outputs": []
    },
    {
      "cell_type": "code",
      "source": [
        "import matplotlib.pyplot as plt\n",
        "\n",
        "wordcloud=WordCloud(max_font_size=50, max_words=50, background_color='white').generate(text)\n",
        "\n",
        "plt.figure()\n",
        "plt.imshow(wordcloud, interpolation='bilinear')\n",
        "plt.axis('off')\n",
        "plt.show()"
      ],
      "metadata": {
        "colab": {
          "base_uri": "https://localhost:8080/",
          "height": 285
        },
        "id": "jYC74G_Kr-Uc",
        "outputId": "77b73dcd-bb92-4a80-9aa4-f51a57716b51"
      },
      "execution_count": null,
      "outputs": [
        {
          "output_type": "display_data",
          "data": {
            "text/plain": [
              "<Figure size 640x480 with 1 Axes>"
            ],
            "image/png": "[encoded data removed]"
          },
          "metadata": {}
        }
      ]
    },
    {
      "cell_type": "code",
      "source": [
        "!pip install nltk\n",
        "!python -m nltk.downloader stopwords"
      ],
      "metadata": {
        "colab": {
          "base_uri": "https://localhost:8080/"
        },
        "id": "9E6Jumr2tcKt",
        "outputId": "3f78cb9e-dfb7-48a2-8eea-c0e1336f19c5"
      },
      "execution_count": 22,
      "outputs": [
        {
          "output_type": "stream",
          "name": "stdout",
          "text": [
            "Requirement already satisfied: nltk in /usr/local/lib/python3.10/dist-packages (3.8.1)\n",
            "Requirement already satisfied: click in /usr/local/lib/python3.10/dist-packages (from nltk) (8.1.7)\n",
            "Requirement already satisfied: joblib in /usr/local/lib/python3.10/dist-packages (from nltk) (1.4.2)\n",
            "Requirement already satisfied: regex>=2021.8.3 in /usr/local/lib/python3.10/dist-packages (from nltk) (2024.5.15)\n",
            "Requirement already satisfied: tqdm in /usr/local/lib/python3.10/dist-packages (from nltk) (4.66.4)\n",
            "/usr/lib/python3.10/runpy.py:126: RuntimeWarning: 'nltk.downloader' found in sys.modules after import of package 'nltk', but prior to execution of 'nltk.downloader'; this may result in unpredictable behaviour\n",
            "  warn(RuntimeWarning(msg))\n",
            "[nltk_data] Downloading package stopwords to /root/nltk_data...\n",
            "[nltk_data]   Package stopwords is already up-to-date!\n"
          ]
        }
      ]
    },
    {
      "cell_type": "code",
      "source": [
        "from nltk.corpus import stopwords\n",
        "stop_words=set(stopwords.words('english'))\n",
        "print(stop_words)"
      ],
      "metadata": {
        "colab": {
          "base_uri": "https://localhost:8080/"
        },
        "id": "tbS_rPYZs00I",
        "outputId": "2b1a68f2-5d72-42bd-83af-9dfaf20e1453"
      },
      "execution_count": 13,
      "outputs": [
        {
          "output_type": "stream",
          "name": "stdout",
          "text": [
            "{'re', 'will', 'itself', 'mightn', 'while', 'after', 'in', \"didn't\", 'm', 'yourselves', 'herself', \"hasn't\", 'as', 'a', 'won', 'nor', 'most', 'them', 'at', 'up', 'doing', \"shouldn't\", \"you're\", 'an', 'himself', 'such', 'don', 'of', 'had', 'hadn', 'is', 'because', 'y', 'just', 'theirs', 'there', 'that', 'me', 'into', 'very', 'again', 'ours', 'they', \"needn't\", \"weren't\", 'myself', \"she's\", 'didn', 'who', \"you'll\", \"doesn't\", \"should've\", 'further', 'being', 'below', 'hers', 'you', 'their', 'll', 'own', 'no', 'if', 'my', 'are', 'which', 'ourselves', 'same', \"you'd\", 'her', 'on', 'each', 'it', 'where', 'our', 'so', 'weren', 'should', 'but', 'off', 'between', 'yours', 'over', 'can', 'under', \"couldn't\", 'other', \"wouldn't\", 'these', 'yourself', 'any', 'too', 'or', \"mightn't\", 'having', 'its', 'with', 'doesn', 'aren', 't', 'haven', 'shouldn', 'were', 'have', 'ain', 'couldn', 'how', 'than', 'be', 'during', 'about', 'hasn', 'this', \"that'll\", \"don't\", 'she', 'more', 'above', 'mustn', \"it's\", 'your', 'whom', 'themselves', 'wouldn', 'why', 'was', 'his', 'against', \"aren't\", 'he', 'once', 'not', 'to', \"haven't\", \"you've\", \"isn't\", 'does', 's', 'before', 'wasn', 'down', 'out', 'some', 'all', \"won't\", 'd', 'shan', 'for', 'him', 'needn', 'did', 'from', 'those', \"wasn't\", 'through', 'ma', 'isn', 'am', 'i', 'now', 'when', 'both', 'we', 'few', 'the', 'has', 'by', 'here', \"hadn't\", 'and', 'o', \"mustn't\", 'been', 'only', 'what', 'then', \"shan't\", 'until', 've', 'do'}\n"
          ]
        }
      ]
    },
    {
      "cell_type": "code",
      "source": [
        "stop_words.update([\"im\",\"you\",\"id\",\"dont\",\"cant\",\"didnt\",\"ive\",\"ill\",\"hasnt\"])"
      ],
      "metadata": {
        "id": "R1fYpkEotagh"
      },
      "execution_count": 14,
      "outputs": []
    },
    {
      "cell_type": "code",
      "source": [
        "print(stop_words)"
      ],
      "metadata": {
        "colab": {
          "base_uri": "https://localhost:8080/"
        },
        "id": "EsfrPbpauf5-",
        "outputId": "744a4d04-d06a-4ab3-f66d-bdca4fe4d13d"
      },
      "execution_count": null,
      "outputs": [
        {
          "output_type": "stream",
          "name": "stdout",
          "text": [
            "{'nor', \"aren't\", 'can', \"you're\", 'until', 'your', 'wasn', 'by', 'not', \"mustn't\", 'why', 'our', 'just', 'have', 'all', 'wouldn', 'than', 'ma', 'himself', 'll', 'in', 'of', \"it's\", 'am', 'if', 'hasnt', 'from', 'only', 'couldn', 'hadn', \"needn't\", 'during', 'an', 'after', 't', 'more', 'so', 'but', 'she', 'its', \"wouldn't\", 'doing', 'm', 'then', 'very', 'should', 'once', 'through', 'themselves', 'before', 'each', 'a', 'down', 'what', 'yourself', 'ain', \"mightn't\", 'do', 'mightn', 'will', 'it', 'shouldn', 'does', 'here', 'now', 'those', 'were', 'at', 'such', \"you've\", 'these', 'under', 'how', 'few', 'too', 'him', 'hers', 'me', 'with', \"shouldn't\", 'there', 'ive', 'off', 'my', 'both', 'is', 'their', 'has', 's', 'shan', 'no', 'about', 'didn', 'ours', 'her', 'needn', 'myself', 'haven', 'ill', \"hadn't\", 'because', 'weren', 'isn', 'over', \"shan't\", 'herself', \"couldn't\", 'to', 'd', 'he', 'his', 'y', 'we', \"weren't\", 'between', 'mustn', \"hasn't\", 'i', 'out', 'and', \"should've\", \"you'll\", 'been', 'most', \"haven't\", 'some', 'dont', 'theirs', \"didn't\", \"that'll\", 'was', 'had', \"don't\", 'own', 'im', 'which', 'or', 'cant', 'who', 'won', 're', 'that', \"she's\", 'doesn', 'don', 'o', 'yours', 'itself', 'where', 'any', 'again', 'they', 'the', 'into', 'against', 'as', \"doesn't\", 'yourselves', 'above', \"wasn't\", 'for', 'when', 've', \"won't\", 'below', 'further', 'be', 'aren', 'id', \"you'd\", 'on', 'did', 'same', 'hasn', 'this', 'having', 'while', 'other', 'didnt', 'being', 'are', 'you', 'them', \"isn't\", 'whom', 'ourselves', 'up'}\n"
          ]
        }
      ]
    },
    {
      "cell_type": "code",
      "source": [
        "def remove_stopwords(text):\n",
        "  return \" \".join([word for word in str(text).split() if word not in stop_words])\n",
        "\n",
        "ts_lyrics['Preprocessed Lyrics']=ts_lyrics['Preprocessed Lyrics'].apply(lambda text:remove_stopwords(text))\n"
      ],
      "metadata": {
        "id": "rgfHLwmGuiC2"
      },
      "execution_count": 15,
      "outputs": []
    },
    {
      "cell_type": "code",
      "source": [
        "#after removing stop words\n",
        "ts_lyrics.iloc[3][4]"
      ],
      "metadata": {
        "colab": {
          "base_uri": "https://localhost:8080/",
          "height": 105
        },
        "id": "MwSNKlY3vehY",
        "outputId": "22b2a780-ee6c-4f2b-f6f3-f22888338d0b"
      },
      "execution_count": 16,
      "outputs": [
        {
          "output_type": "execute_result",
          "data": {
            "text/plain": [
              "'know want ask cause still trying figure know whats road walking trying see rain coming even though one feels way alone thats know strong wrong oh life goes oh girl trying find place world got radio old blue jeans wearing heart sleeve feeling lucky today got sunshine could tell need tomorrows mystery oh yeah thats okay alone thats know strong wrong oh life goes oh girl trying find place world maybe girl mission ready fly alone thats know oh strong wrong oh life goes oh alone thats know oh girl trying find place world oh girl oh girl oh oh oh girl'"
            ],
            "application/vnd.google.colaboratory.intrinsic+json": {
              "type": "string"
            }
          },
          "metadata": {},
          "execution_count": 16
        }
      ]
    },
    {
      "cell_type": "code",
      "source": [
        "'''\n",
        "1)lemmatizer\n",
        "2)stemming\n",
        "'''"
      ],
      "metadata": {
        "id": "xajFeyP8vpyX"
      },
      "execution_count": null,
      "outputs": []
    },
    {
      "cell_type": "code",
      "source": [
        "import nltk\n",
        "from nltk.stem import WordNetLemmatizer, PorterStemmer\n",
        "from nltk.corpus import wordnet\n",
        "from nltk.tokenize import word_tokenize, sent_tokenize\n",
        "nltk.download('wordnet')\n",
        "nltk.download('omw-1.4')\n",
        "nltk.download('averaged_perceptron_tagger')\n",
        "nltk.download('punkt')"
      ],
      "metadata": {
        "colab": {
          "base_uri": "https://localhost:8080/"
        },
        "id": "By9qzesXIgWW",
        "outputId": "362e0d7a-4e14-4ad3-dd7b-c4c5fd8a9f66"
      },
      "execution_count": 27,
      "outputs": [
        {
          "output_type": "stream",
          "name": "stderr",
          "text": [
            "[nltk_data] Downloading package wordnet to /root/nltk_data...\n",
            "[nltk_data]   Package wordnet is already up-to-date!\n",
            "[nltk_data] Downloading package omw-1.4 to /root/nltk_data...\n",
            "[nltk_data]   Package omw-1.4 is already up-to-date!\n",
            "[nltk_data] Downloading package averaged_perceptron_tagger to\n",
            "[nltk_data]     /root/nltk_data...\n",
            "[nltk_data]   Package averaged_perceptron_tagger is already up-to-\n",
            "[nltk_data]       date!\n",
            "[nltk_data] Downloading package punkt to /root/nltk_data...\n",
            "[nltk_data]   Unzipping tokenizers/punkt.zip.\n"
          ]
        },
        {
          "output_type": "execute_result",
          "data": {
            "text/plain": [
              "True"
            ]
          },
          "metadata": {},
          "execution_count": 27
        }
      ]
    },
    {
      "cell_type": "code",
      "source": [
        "lemmatizer = WordNetLemmatizer()\n",
        "\n",
        "def get_wordnet_pos(word):\n",
        "    tag = nltk.pos_tag([word])[0][1][0].upper()\n",
        "    tag_dict = {\"J\": wordnet.ADJ,\n",
        "                \"N\": wordnet.NOUN,\n",
        "                \"V\": wordnet.VERB,\n",
        "                \"R\": wordnet.ADV}\n",
        "    return tag_dict.get(tag, wordnet.NOUN)\n",
        "\n",
        "def lemmatize_text(text):\n",
        "    words = word_tokenize(text)\n",
        "    lemmatized_words = [lemmatizer.lemmatize(word, get_wordnet_pos(word)) for word in words]\n",
        "    return ' '.join(lemmatized_words)\n",
        "\n",
        "\n",
        "ts_lyrics['Preprocessed Lyrics lemmatizing']=ts_lyrics['Preprocessed Lyrics'].apply(lemmatize_text)\n",
        "\n",
        "\n",
        "#------------------------------------------------------------------------------------------------\n",
        "\n",
        "stemmer = PorterStemmer()\n",
        "\n",
        "def stem_text(text):\n",
        "    words = word_tokenize(text)\n",
        "    stemmed_words = [stemmer.stem(word) for word in words]\n",
        "    return ' '.join(stemmed_words)\n",
        "\n",
        "ts_lyrics['Preprocessed Lyrics stemming']=ts_lyrics['Preprocessed Lyrics'].apply(stem_text)"
      ],
      "metadata": {
        "id": "3CYganSHJa-w"
      },
      "execution_count": 28,
      "outputs": []
    },
    {
      "cell_type": "code",
      "source": [
        "ts_lyrics.head()"
      ],
      "metadata": {
        "colab": {
          "base_uri": "https://localhost:8080/",
          "height": 397
        },
        "id": "1nM_Zp1YLlby",
        "outputId": "7726c4c2-471c-4be8-95a6-52cf35d3efa4"
      },
      "execution_count": 29,
      "outputs": [
        {
          "output_type": "execute_result",
          "data": {
            "text/plain": [
              "         Artist           Album                   Title   \\\n",
              "0  Taylor Swift   Taylor Swift                Tim McGraw   \n",
              "1  Taylor Swift   Taylor Swift           Picture to Burn   \n",
              "2  Taylor Swift   Taylor Swift   Teardrops on my Guitar    \n",
              "3  Taylor Swift   Taylor Swift    A Place in This World    \n",
              "4  Taylor Swift   Taylor Swift              Cold As You    \n",
              "\n",
              "                                              Lyrics  \\\n",
              "0  He said the way my blue eyes shinx\\nPut those ...   \n",
              "1  State the obvious, I didn't get my perfect fan...   \n",
              "2  Drew looks at me,\\nI fake a smile so he won't ...   \n",
              "3  I don't know what I want, so don't ask me\\n'Ca...   \n",
              "4  You have a way of coming easily to me\\nAnd whe...   \n",
              "\n",
              "                                 Preprocessed Lyrics  \\\n",
              "0  said way blue eyes shinx put georgia stars sha...   \n",
              "1  state obvious get perfect fantasy realize love...   \n",
              "2  drew looks fake smile wont see want need every...   \n",
              "3  know want ask cause still trying figure know w...   \n",
              "4  way coming easily take take best start fight c...   \n",
              "\n",
              "                     Preprocessed Lyrics lemmatizing  \\\n",
              "0  say way blue eye shinx put georgia star shame ...   \n",
              "1  state obvious get perfect fantasy realize love...   \n",
              "2  drew look fake smile wont see want need everyt...   \n",
              "3  know want ask cause still try figure know what...   \n",
              "4  way come easily take take best start fight cau...   \n",
              "\n",
              "                        Preprocessed Lyrics stemming  \n",
              "0  said way blue eye shinx put georgia star shame...  \n",
              "1  state obviou get perfect fantasi realiz love c...  \n",
              "2  drew look fake smile wont see want need everyt...  \n",
              "3  know want ask caus still tri figur know what r...  \n",
              "4  way come easili take take best start fight cau...  "
            ],
            "text/html": [
              "\n",
              "  <div id=\"df-f86fac43-06b2-4ef0-8270-af6294cd08c9\" class=\"colab-df-container\">\n",
              "    <div>\n",
              "<style scoped>\n",
              "    .dataframe tbody tr th:only-of-type {\n",
              "        vertical-align: middle;\n",
              "    }\n",
              "\n",
              "    .dataframe tbody tr th {\n",
              "        vertical-align: top;\n",
              "    }\n",
              "\n",
              "    .dataframe thead th {\n",
              "        text-align: right;\n",
              "    }\n",
              "</style>\n",
              "<table border=\"1\" class=\"dataframe\">\n",
              "  <thead>\n",
              "    <tr style=\"text-align: right;\">\n",
              "      <th></th>\n",
              "      <th>Artist</th>\n",
              "      <th>Album</th>\n",
              "      <th>Title</th>\n",
              "      <th>Lyrics</th>\n",
              "      <th>Preprocessed Lyrics</th>\n",
              "      <th>Preprocessed Lyrics lemmatizing</th>\n",
              "      <th>Preprocessed Lyrics stemming</th>\n",
              "    </tr>\n",
              "  </thead>\n",
              "  <tbody>\n",
              "    <tr>\n",
              "      <th>0</th>\n",
              "      <td>Taylor Swift</td>\n",
              "      <td>Taylor Swift</td>\n",
              "      <td>Tim McGraw</td>\n",
              "      <td>He said the way my blue eyes shinx\\nPut those ...</td>\n",
              "      <td>said way blue eyes shinx put georgia stars sha...</td>\n",
              "      <td>say way blue eye shinx put georgia star shame ...</td>\n",
              "      <td>said way blue eye shinx put georgia star shame...</td>\n",
              "    </tr>\n",
              "    <tr>\n",
              "      <th>1</th>\n",
              "      <td>Taylor Swift</td>\n",
              "      <td>Taylor Swift</td>\n",
              "      <td>Picture to Burn</td>\n",
              "      <td>State the obvious, I didn't get my perfect fan...</td>\n",
              "      <td>state obvious get perfect fantasy realize love...</td>\n",
              "      <td>state obvious get perfect fantasy realize love...</td>\n",
              "      <td>state obviou get perfect fantasi realiz love c...</td>\n",
              "    </tr>\n",
              "    <tr>\n",
              "      <th>2</th>\n",
              "      <td>Taylor Swift</td>\n",
              "      <td>Taylor Swift</td>\n",
              "      <td>Teardrops on my Guitar</td>\n",
              "      <td>Drew looks at me,\\nI fake a smile so he won't ...</td>\n",
              "      <td>drew looks fake smile wont see want need every...</td>\n",
              "      <td>drew look fake smile wont see want need everyt...</td>\n",
              "      <td>drew look fake smile wont see want need everyt...</td>\n",
              "    </tr>\n",
              "    <tr>\n",
              "      <th>3</th>\n",
              "      <td>Taylor Swift</td>\n",
              "      <td>Taylor Swift</td>\n",
              "      <td>A Place in This World</td>\n",
              "      <td>I don't know what I want, so don't ask me\\n'Ca...</td>\n",
              "      <td>know want ask cause still trying figure know w...</td>\n",
              "      <td>know want ask cause still try figure know what...</td>\n",
              "      <td>know want ask caus still tri figur know what r...</td>\n",
              "    </tr>\n",
              "    <tr>\n",
              "      <th>4</th>\n",
              "      <td>Taylor Swift</td>\n",
              "      <td>Taylor Swift</td>\n",
              "      <td>Cold As You</td>\n",
              "      <td>You have a way of coming easily to me\\nAnd whe...</td>\n",
              "      <td>way coming easily take take best start fight c...</td>\n",
              "      <td>way come easily take take best start fight cau...</td>\n",
              "      <td>way come easili take take best start fight cau...</td>\n",
              "    </tr>\n",
              "  </tbody>\n",
              "</table>\n",
              "</div>\n",
              "    <div class=\"colab-df-buttons\">\n",
              "\n",
              "  <div class=\"colab-df-container\">\n",
              "    <button class=\"colab-df-convert\" onclick=\"convertToInteractive('df-f86fac43-06b2-4ef0-8270-af6294cd08c9')\"\n",
              "            title=\"Convert this dataframe to an interactive table.\"\n",
              "            style=\"display:none;\">\n",
              "\n",
              "  <svg xmlns=\"http://www.w3.org/2000/svg\" height=\"24px\" viewBox=\"0 -960 960 960\">\n",
              "    <path d=\"M120-120v-720h720v720H120Zm60-500h600v-160H180v160Zm220 220h160v-160H400v160Zm0 220h160v-160H400v160ZM180-400h160v-160H180v160Zm440 0h160v-160H620v160ZM180-180h160v-160H180v160Zm440 0h160v-160H620v160Z\"/>\n",
              "  </svg>\n",
              "    </button>\n",
              "\n",
              "  <style>\n",
              "    .colab-df-container {\n",
              "      display:flex;\n",
              "      gap: 12px;\n",
              "    }\n",
              "\n",
              "    .colab-df-convert {\n",
              "      background-color: #E8F0FE;\n",
              "      border: none;\n",
              "      border-radius: 50%;\n",
              "      cursor: pointer;\n",
              "      display: none;\n",
              "      fill: #1967D2;\n",
              "      height: 32px;\n",
              "      padding: 0 0 0 0;\n",
              "      width: 32px;\n",
              "    }\n",
              "\n",
              "    .colab-df-convert:hover {\n",
              "      background-color: #E2EBFA;\n",
              "      box-shadow: 0px 1px 2px rgba(60, 64, 67, 0.3), 0px 1px 3px 1px rgba(60, 64, 67, 0.15);\n",
              "      fill: #174EA6;\n",
              "    }\n",
              "\n",
              "    .colab-df-buttons div {\n",
              "      margin-bottom: 4px;\n",
              "    }\n",
              "\n",
              "    [theme=dark] .colab-df-convert {\n",
              "      background-color: #3B4455;\n",
              "      fill: #D2E3FC;\n",
              "    }\n",
              "\n",
              "    [theme=dark] .colab-df-convert:hover {\n",
              "      background-color: #434B5C;\n",
              "      box-shadow: 0px 1px 3px 1px rgba(0, 0, 0, 0.15);\n",
              "      filter: drop-shadow(0px 1px 2px rgba(0, 0, 0, 0.3));\n",
              "      fill: #FFFFFF;\n",
              "    }\n",
              "  </style>\n",
              "\n",
              "    <script>\n",
              "      const buttonEl =\n",
              "        document.querySelector('#df-f86fac43-06b2-4ef0-8270-af6294cd08c9 button.colab-df-convert');\n",
              "      buttonEl.style.display =\n",
              "        google.colab.kernel.accessAllowed ? 'block' : 'none';\n",
              "\n",
              "      async function convertToInteractive(key) {\n",
              "        const element = document.querySelector('#df-f86fac43-06b2-4ef0-8270-af6294cd08c9');\n",
              "        const dataTable =\n",
              "          await google.colab.kernel.invokeFunction('convertToInteractive',\n",
              "                                                    [key], {});\n",
              "        if (!dataTable) return;\n",
              "\n",
              "        const docLinkHtml = 'Like what you see? Visit the ' +\n",
              "          '<a target=\"_blank\" href=https://colab.research.google.com/notebooks/data_table.ipynb>data table notebook</a>'\n",
              "          + ' to learn more about interactive tables.';\n",
              "        element.innerHTML = '';\n",
              "        dataTable['output_type'] = 'display_data';\n",
              "        await google.colab.output.renderOutput(dataTable, element);\n",
              "        const docLink = document.createElement('div');\n",
              "        docLink.innerHTML = docLinkHtml;\n",
              "        element.appendChild(docLink);\n",
              "      }\n",
              "    </script>\n",
              "  </div>\n",
              "\n",
              "\n",
              "<div id=\"df-a59e31ec-b113-4da8-808a-b05abac04f56\">\n",
              "  <button class=\"colab-df-quickchart\" onclick=\"quickchart('df-a59e31ec-b113-4da8-808a-b05abac04f56')\"\n",
              "            title=\"Suggest charts\"\n",
              "            style=\"display:none;\">\n",
              "\n",
              "<svg xmlns=\"http://www.w3.org/2000/svg\" height=\"24px\"viewBox=\"0 0 24 24\"\n",
              "     width=\"24px\">\n",
              "    <g>\n",
              "        <path d=\"M19 3H5c-1.1 0-2 .9-2 2v14c0 1.1.9 2 2 2h14c1.1 0 2-.9 2-2V5c0-1.1-.9-2-2-2zM9 17H7v-7h2v7zm4 0h-2V7h2v10zm4 0h-2v-4h2v4z\"/>\n",
              "    </g>\n",
              "</svg>\n",
              "  </button>\n",
              "\n",
              "<style>\n",
              "  .colab-df-quickchart {\n",
              "      --bg-color: #E8F0FE;\n",
              "      --fill-color: #1967D2;\n",
              "      --hover-bg-color: #E2EBFA;\n",
              "      --hover-fill-color: #174EA6;\n",
              "      --disabled-fill-color: #AAA;\n",
              "      --disabled-bg-color: #DDD;\n",
              "  }\n",
              "\n",
              "  [theme=dark] .colab-df-quickchart {\n",
              "      --bg-color: #3B4455;\n",
              "      --fill-color: #D2E3FC;\n",
              "      --hover-bg-color: #434B5C;\n",
              "      --hover-fill-color: #FFFFFF;\n",
              "      --disabled-bg-color: #3B4455;\n",
              "      --disabled-fill-color: #666;\n",
              "  }\n",
              "\n",
              "  .colab-df-quickchart {\n",
              "    background-color: var(--bg-color);\n",
              "    border: none;\n",
              "    border-radius: 50%;\n",
              "    cursor: pointer;\n",
              "    display: none;\n",
              "    fill: var(--fill-color);\n",
              "    height: 32px;\n",
              "    padding: 0;\n",
              "    width: 32px;\n",
              "  }\n",
              "\n",
              "  .colab-df-quickchart:hover {\n",
              "    background-color: var(--hover-bg-color);\n",
              "    box-shadow: 0 1px 2px rgba(60, 64, 67, 0.3), 0 1px 3px 1px rgba(60, 64, 67, 0.15);\n",
              "    fill: var(--button-hover-fill-color);\n",
              "  }\n",
              "\n",
              "  .colab-df-quickchart-complete:disabled,\n",
              "  .colab-df-quickchart-complete:disabled:hover {\n",
              "    background-color: var(--disabled-bg-color);\n",
              "    fill: var(--disabled-fill-color);\n",
              "    box-shadow: none;\n",
              "  }\n",
              "\n",
              "  .colab-df-spinner {\n",
              "    border: 2px solid var(--fill-color);\n",
              "    border-color: transparent;\n",
              "    border-bottom-color: var(--fill-color);\n",
              "    animation:\n",
              "      spin 1s steps(1) infinite;\n",
              "  }\n",
              "\n",
              "  @keyframes spin {\n",
              "    0% {\n",
              "      border-color: transparent;\n",
              "      border-bottom-color: var(--fill-color);\n",
              "      border-left-color: var(--fill-color);\n",
              "    }\n",
              "    20% {\n",
              "      border-color: transparent;\n",
              "      border-left-color: var(--fill-color);\n",
              "      border-top-color: var(--fill-color);\n",
              "    }\n",
              "    30% {\n",
              "      border-color: transparent;\n",
              "      border-left-color: var(--fill-color);\n",
              "      border-top-color: var(--fill-color);\n",
              "      border-right-color: var(--fill-color);\n",
              "    }\n",
              "    40% {\n",
              "      border-color: transparent;\n",
              "      border-right-color: var(--fill-color);\n",
              "      border-top-color: var(--fill-color);\n",
              "    }\n",
              "    60% {\n",
              "      border-color: transparent;\n",
              "      border-right-color: var(--fill-color);\n",
              "    }\n",
              "    80% {\n",
              "      border-color: transparent;\n",
              "      border-right-color: var(--fill-color);\n",
              "      border-bottom-color: var(--fill-color);\n",
              "    }\n",
              "    90% {\n",
              "      border-color: transparent;\n",
              "      border-bottom-color: var(--fill-color);\n",
              "    }\n",
              "  }\n",
              "</style>\n",
              "\n",
              "  <script>\n",
              "    async function quickchart(key) {\n",
              "      const quickchartButtonEl =\n",
              "        document.querySelector('#' + key + ' button');\n",
              "      quickchartButtonEl.disabled = true;  // To prevent multiple clicks.\n",
              "      quickchartButtonEl.classList.add('colab-df-spinner');\n",
              "      try {\n",
              "        const charts = await google.colab.kernel.invokeFunction(\n",
              "            'suggestCharts', [key], {});\n",
              "      } catch (error) {\n",
              "        console.error('Error during call to suggestCharts:', error);\n",
              "      }\n",
              "      quickchartButtonEl.classList.remove('colab-df-spinner');\n",
              "      quickchartButtonEl.classList.add('colab-df-quickchart-complete');\n",
              "    }\n",
              "    (() => {\n",
              "      let quickchartButtonEl =\n",
              "        document.querySelector('#df-a59e31ec-b113-4da8-808a-b05abac04f56 button');\n",
              "      quickchartButtonEl.style.display =\n",
              "        google.colab.kernel.accessAllowed ? 'block' : 'none';\n",
              "    })();\n",
              "  </script>\n",
              "</div>\n",
              "\n",
              "    </div>\n",
              "  </div>\n"
            ],
            "application/vnd.google.colaboratory.intrinsic+json": {
              "type": "dataframe",
              "variable_name": "ts_lyrics",
              "summary": "{\n  \"name\": \"ts_lyrics\",\n  \"rows\": 132,\n  \"fields\": [\n    {\n      \"column\": \"Artist \",\n      \"properties\": {\n        \"dtype\": \"category\",\n        \"num_unique_values\": 2,\n        \"samples\": [\n          \"Taylor Swift\",\n          \"Taylor Swift \"\n        ],\n        \"semantic_type\": \"\",\n        \"description\": \"\"\n      }\n    },\n    {\n      \"column\": \"Album\",\n      \"properties\": {\n        \"dtype\": \"category\",\n        \"num_unique_values\": 8,\n        \"samples\": [\n          \"Fearless\",\n          \"reputation \"\n        ],\n        \"semantic_type\": \"\",\n        \"description\": \"\"\n      }\n    },\n    {\n      \"column\": \"Title \",\n      \"properties\": {\n        \"dtype\": \"string\",\n        \"num_unique_values\": 132,\n        \"samples\": [\n          \"We Are Never Ever Getting Back Together\",\n          \"Ready For It \"\n        ],\n        \"semantic_type\": \"\",\n        \"description\": \"\"\n      }\n    },\n    {\n      \"column\": \"Lyrics\",\n      \"properties\": {\n        \"dtype\": \"string\",\n        \"num_unique_values\": 132,\n        \"samples\": [\n          \"I remember when we broke up, the first time\\nSaying, \\\"This is it, I've had enough\\\"\\n'Cause like we hadn't seen each other in a month\\nWhen you, said you, needed space (what?)\\nThen you come around again and say\\n\\\"Baby, I miss you and I swear I'm gonna change, trust me\\\"\\nRemember how that lasted for a day?\\nI say, I hate you, we break up, you call me, I love you\\nOoh, oh-oh, oh-oh\\nWe called it off again last night\\nBut ooh, oh-oh, oh-oh\\nThis time I'm telling you, I'm telling you\\nWe are never ever, ever getting back together\\nWe are never ever, ever getting back together\\nYou go talk to your friends, talk to my friends, talk to me\\nBut we are never ever, ever, ever getting back together\\nLike, ever\\nI'm really gonna miss you picking fights\\nAnd me, falling for it screaming that I'm right\\nAnd you, would hide away and find your peace of mind\\nWith some indie record that's much cooler than mine\\nOoh, oh-oh, oh-oh\\nYou called me up again tonight\\nBut ooh, oh-oh, oh-oh\\nThis time I'm telling you, I'm telling you\\nWe are never ever, ever getting back together\\nWe are never ever, ever getting back together\\nYou go talk to your friends, talk to my friends, talk to me (talk to me)\\nBut, we are never ever, ever, ever getting back together\\nOoh, oh-oh, oh-oh yeah\\nOoh, oh-oh, oh-oh-oh yeah\\nOoh, oh-oh, oh-oh yeah\\nOh-oh-oh\\nI used to think that we were forever ever, ever\\nAnd I used to say, \\\"Never say never\\\"\\n\\\"Huh, so he calls me up and he's like, I still love you\\nAnd I'm like I just I mean this is exhausting, you know\\nLike we are never getting back together like, ever\\\"\\nWe are never ever, ever getting back together\\nWe are never ever, ever getting back together\\nYou go talk to your friends, talk to my friends, talk to me\\nBut we are never ever ever ever getting back together\\n(We) ooh, oh-oh, oh-oh\\nOoh, oh-oh, oh-oh (getting back together)\\n(We) ooh, oh-oh, oh-oh\\nOoh, oh-oh, oh-oh (getting back together)\\nYou go talk to your friends, talk to my friends, talk to me (talk to me)\\nBut we are never ever, ever, ever getting back together\\n\",\n          \"Knew he was a killer first time that I saw him\\nWonder how many girls he had loved and left haunted\\nBut if he's a ghost, then I can be a phantom\\nHoldin' him for ransom\\nSome, some boys are tryin' too hard\\nHe don't try at all, though\\nYounger than my exes but he act like such a man, so\\nI see nothing better, I keep him forever\\nLike a vendetta-ta\\nI-I-I see how this is gon' go\\nTouch me and you'll never be alone\\nI-Island breeze and lights down low\\nNo one has to know\\nIn the middle of the night, in my dreams\\nYou should see the things we do, baby\\nIn the middle of the night, in my dreams\\nI know I'm gonna be with you\\nSo I take my time\\nAre you ready for it?\\nMe, I was a robber first time that he saw me\\nStealing hearts and running off and never saying sorry\\nBut if I'm a thief, then he can join the heist\\nAnd we'll move to an island-and\\nAnd he can be my jailer, Burton to this Taylor\\nEvery lover known in comparison is a failure\\nI forget their names now, I'm so very tame now\\nNever be the same now, now\\nI-I-I see how this is gon' go\\nTouch me and you'll never be alone\\nI-Island breeze and lights down low\\nNo one has to know\\n(No one has to know)\\nIn the middle of the night, in my dreams\\nYou should see the things we do, baby\\nIn the middle of the night in my dreams\\nI know I'm gonna be with you\\nSo I take my time\\nAre you ready for it?\\nOoh, are you ready for it?\\nBaby, let the games begin\\nLet the games begin\\nLet the games begin\\nBaby, let the games begin\\nLet the games begin\\nLet the games begin\\nI-I-I see how this is gon' go\\nTouch me and you'll never be alone\\nI-Island breeze and lights down low\\nNo one has to know\\nIn the middle of the night, in my dreams\\nYou should see the things we do, baby\\nIn the middle of the night, in my dreams\\nI know I'm gonna be with you\\nSo I take my time\\nIn the middle of the night\\nBaby, let the games begin\\nLet the games begin\\nLet the games begin\\nAre you ready for it?\\nBaby, let the games begin\\nLet the games begin\\nLet the games begin\\nAre you ready for it?\\n\"\n        ],\n        \"semantic_type\": \"\",\n        \"description\": \"\"\n      }\n    },\n    {\n      \"column\": \"Preprocessed Lyrics\",\n      \"properties\": {\n        \"dtype\": \"string\",\n        \"num_unique_values\": 132,\n        \"samples\": [\n          \"remember broke first time saying enough cause like hadnt seen month said needed space come around say baby miss swear gonna change trust remember lasted day say hate break call love ooh ohoh ohoh called last night ooh ohoh ohoh time telling telling never ever ever getting back together never ever ever getting back together go talk friends talk friends talk never ever ever ever getting back together like ever really gonna miss picking fights falling screaming right would hide away find peace mind indie record thats much cooler mine ooh ohoh ohoh called tonight ooh ohoh ohoh time telling telling never ever ever getting back together never ever ever getting back together go talk friends talk friends talk talk never ever ever ever getting back together ooh ohoh ohoh yeah ooh ohoh ohohoh yeah ooh ohoh ohoh yeah ohohoh used think forever ever ever used say never say never huh calls hes like still love like mean exhausting know like never getting back together like ever never ever ever getting back together never ever ever getting back together go talk friends talk friends talk never ever ever ever getting back together ooh ohoh ohoh ooh ohoh ohoh getting back together ooh ohoh ohoh ooh ohoh ohoh getting back together go talk friends talk friends talk talk never ever ever ever getting back together\",\n          \"knew killer first time saw wonder many girls loved left haunted hes ghost phantom holdin ransom boys tryin hard try though younger exes act like man see nothing better keep forever like vendettata iii see gon go touch youll never alone iisland breeze lights low one know middle night dreams see things baby middle night dreams know gonna take time ready robber first time saw stealing hearts running never saying sorry thief join heist well move islandand jailer burton taylor every lover known comparison failure forget names tame never iii see gon go touch youll never alone iisland breeze lights low one know one know middle night dreams see things baby middle night dreams know gonna take time ready ooh ready baby let games begin let games begin let games begin baby let games begin let games begin let games begin iii see gon go touch youll never alone iisland breeze lights low one know middle night dreams see things baby middle night dreams know gonna take time middle night baby let games begin let games begin let games begin ready baby let games begin let games begin let games begin ready\"\n        ],\n        \"semantic_type\": \"\",\n        \"description\": \"\"\n      }\n    },\n    {\n      \"column\": \"Preprocessed Lyrics lemmatizing\",\n      \"properties\": {\n        \"dtype\": \"string\",\n        \"num_unique_values\": 132,\n        \"samples\": [\n          \"remember broke first time say enough cause like hadnt see month say need space come around say baby miss swear gon na change trust remember last day say hate break call love ooh ohoh ohoh call last night ooh ohoh ohoh time tell tell never ever ever get back together never ever ever get back together go talk friend talk friend talk never ever ever ever get back together like ever really gon na miss pick fight fall scream right would hide away find peace mind indie record thats much cooler mine ooh ohoh ohoh call tonight ooh ohoh ohoh time tell tell never ever ever get back together never ever ever get back together go talk friend talk friend talk talk never ever ever ever get back together ooh ohoh ohoh yeah ooh ohoh ohohoh yeah ooh ohoh ohoh yeah ohohoh use think forever ever ever use say never say never huh call he like still love like mean exhaust know like never get back together like ever never ever ever get back together never ever ever get back together go talk friend talk friend talk never ever ever ever get back together ooh ohoh ohoh ooh ohoh ohoh get back together ooh ohoh ohoh ooh ohoh ohoh get back together go talk friend talk friend talk talk never ever ever ever get back together\",\n          \"knew killer first time saw wonder many girl love left haunt he ghost phantom holdin ransom boy tryin hard try though young ex act like man see nothing well keep forever like vendettata iii see gon go touch youll never alone iisland breeze light low one know middle night dream see thing baby middle night dream know gon na take time ready robber first time saw steal heart run never say sorry thief join heist well move islandand jailer burton taylor every lover know comparison failure forget name tame never iii see gon go touch youll never alone iisland breeze light low one know one know middle night dream see thing baby middle night dream know gon na take time ready ooh ready baby let game begin let game begin let game begin baby let game begin let game begin let game begin iii see gon go touch youll never alone iisland breeze light low one know middle night dream see thing baby middle night dream know gon na take time middle night baby let game begin let game begin let game begin ready baby let game begin let game begin let game begin ready\"\n        ],\n        \"semantic_type\": \"\",\n        \"description\": \"\"\n      }\n    },\n    {\n      \"column\": \"Preprocessed Lyrics stemming\",\n      \"properties\": {\n        \"dtype\": \"string\",\n        \"num_unique_values\": 132,\n        \"samples\": [\n          \"rememb broke first time say enough caus like hadnt seen month said need space come around say babi miss swear gon na chang trust rememb last day say hate break call love ooh ohoh ohoh call last night ooh ohoh ohoh time tell tell never ever ever get back togeth never ever ever get back togeth go talk friend talk friend talk never ever ever ever get back togeth like ever realli gon na miss pick fight fall scream right would hide away find peac mind indi record that much cooler mine ooh ohoh ohoh call tonight ooh ohoh ohoh time tell tell never ever ever get back togeth never ever ever get back togeth go talk friend talk friend talk talk never ever ever ever get back togeth ooh ohoh ohoh yeah ooh ohoh ohohoh yeah ooh ohoh ohoh yeah ohohoh use think forev ever ever use say never say never huh call he like still love like mean exhaust know like never get back togeth like ever never ever ever get back togeth never ever ever get back togeth go talk friend talk friend talk never ever ever ever get back togeth ooh ohoh ohoh ooh ohoh ohoh get back togeth ooh ohoh ohoh ooh ohoh ohoh get back togeth go talk friend talk friend talk talk never ever ever ever get back togeth\",\n          \"knew killer first time saw wonder mani girl love left haunt he ghost phantom holdin ransom boy tryin hard tri though younger exe act like man see noth better keep forev like vendettata iii see gon go touch youll never alon iisland breez light low one know middl night dream see thing babi middl night dream know gon na take time readi robber first time saw steal heart run never say sorri thief join heist well move islandand jailer burton taylor everi lover known comparison failur forget name tame never iii see gon go touch youll never alon iisland breez light low one know one know middl night dream see thing babi middl night dream know gon na take time readi ooh readi babi let game begin let game begin let game begin babi let game begin let game begin let game begin iii see gon go touch youll never alon iisland breez light low one know middl night dream see thing babi middl night dream know gon na take time middl night babi let game begin let game begin let game begin readi babi let game begin let game begin let game begin readi\"\n        ],\n        \"semantic_type\": \"\",\n        \"description\": \"\"\n      }\n    }\n  ]\n}"
            }
          },
          "metadata": {},
          "execution_count": 29
        }
      ]
    },
    {
      "cell_type": "code",
      "source": [
        "print(\"Lyrics After Lemmatizing:\",ts_lyrics.iloc[3][5])\n",
        "\n",
        "print(\"-\"*550)\n",
        "\n",
        "print(\"Lyrics After stemming:\", ts_lyrics.iloc[3][6])"
      ],
      "metadata": {
        "colab": {
          "base_uri": "https://localhost:8080/"
        },
        "id": "9gB49db_Maa4",
        "outputId": "387478b6-c1ea-4809-fb0f-f251152f4de3"
      },
      "execution_count": 36,
      "outputs": [
        {
          "output_type": "stream",
          "name": "stdout",
          "text": [
            "Lyrics After Lemmatizing: know want ask cause still try figure know whats road walk try see rain come even though one feel way alone thats know strong wrong oh life go oh girl try find place world get radio old blue jean wear heart sleeve feel lucky today get sunshine could tell need tomorrow mystery oh yeah thats okay alone thats know strong wrong oh life go oh girl try find place world maybe girl mission ready fly alone thats know oh strong wrong oh life go oh alone thats know oh girl try find place world oh girl oh girl oh oh oh girl\n",
            "----------------------------------------------------------------------------------------------------------------------------------------------------------------------------------------------------------------------------------------------------------------------------------------------------------------------------------------------------------------------------------------------------------------------------------------------------------------------------------------------------------------------------------------------------------------------\n",
            "Lyrics After stemming: know want ask caus still tri figur know what road walk tri see rain come even though one feel way alon that know strong wrong oh life goe oh girl tri find place world got radio old blue jean wear heart sleev feel lucki today got sunshin could tell need tomorrow mysteri oh yeah that okay alon that know strong wrong oh life goe oh girl tri find place world mayb girl mission readi fli alon that know oh strong wrong oh life goe oh alon that know oh girl tri find place world oh girl oh girl oh oh oh girl\n"
          ]
        }
      ]
    },
    {
      "cell_type": "code",
      "source": [],
      "metadata": {
        "id": "h3qU_95rNFU4"
      },
      "execution_count": null,
      "outputs": []
    }
  ]
}