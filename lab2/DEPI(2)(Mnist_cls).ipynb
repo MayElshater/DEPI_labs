{
  "cells": [
    {
      "cell_type": "code",
      "execution_count": 1,
      "metadata": {
        "id": "u2yx_BoLXeNb"
      },
      "outputs": [],
      "source": [
        "import pandas as pd\n",
        "import numpy as np\n",
        "import tensorflow as tf\n",
        "import matplotlib.pyplot as plt"
      ]
    },
    {
      "cell_type": "code",
      "execution_count": 2,
      "metadata": {
        "id": "3tnmGEEdYo7j"
      },
      "outputs": [],
      "source": [
        "mnist=tf.keras.datasets.mnist"
      ]
    },
    {
      "cell_type": "code",
      "execution_count": 3,
      "metadata": {
        "id": "_q6r41VedO0a"
      },
      "outputs": [],
      "source": [
        "(x_train,y_train) , (x_test,y_test)=mnist.load_data()"
      ]
    },
    {
      "cell_type": "code",
      "execution_count": null,
      "metadata": {
        "colab": {
          "base_uri": "https://localhost:8080/",
          "height": 1000
        },
        "id": "7gA-OPMudeVs",
        "outputId": "525c333c-7a4f-4b68-d7c8-92f6ddc6f49c"
      },
      "outputs": [
        {
          "name": "stdout",
          "output_type": "stream",
          "text": [
            "[[  0   0   0   0   0   0   0   0   0   0   0   0   0   0   0   0   0   0\n",
            "    0   0   0   0   0   0   0   0   0   0]\n",
            " [  0   0   0   0   0   0   0   0   0   0   0   0   0   0   0   0   0   0\n",
            "    0   0   0   0   0   0   0   0   0   0]\n",
            " [  0   0   0   0   0   0   0   0   0   0   0   0   0   0   0   0   0   0\n",
            "    0   0   0   0   0   0   0   0   0   0]\n",
            " [  0   0   0   0   0   0   0   0   0   0   0   0   0   0   0   0   0   0\n",
            "    0   0   0   0   0   0   0   0   0   0]\n",
            " [  0   0   0   0   0   0   0   0   0   0   0  42 118 219 166 118 118   6\n",
            "    0   0   0   0   0   0   0   0   0   0]\n",
            " [  0   0   0   0   0   0   0   0   0   0 103 242 254 254 254 254 254  66\n",
            "    0   0   0   0   0   0   0   0   0   0]\n",
            " [  0   0   0   0   0   0   0   0   0   0  18 232 254 254 254 254 254 238\n",
            "   70   0   0   0   0   0   0   0   0   0]\n",
            " [  0   0   0   0   0   0   0   0   0   0   0 104 244 254 224 254 254 254\n",
            "  141   0   0   0   0   0   0   0   0   0]\n",
            " [  0   0   0   0   0   0   0   0   0   0   0   0 207 254 210 254 254 254\n",
            "   34   0   0   0   0   0   0   0   0   0]\n",
            " [  0   0   0   0   0   0   0   0   0   0   0   0  84 206 254 254 254 254\n",
            "   41   0   0   0   0   0   0   0   0   0]\n",
            " [  0   0   0   0   0   0   0   0   0   0   0   0   0  24 209 254 254 254\n",
            "  171   0   0   0   0   0   0   0   0   0]\n",
            " [  0   0   0   0   0   0   0   0   0   0   0   0  91 137 253 254 254 254\n",
            "  112   0   0   0   0   0   0   0   0   0]\n",
            " [  0   0   0   0   0   0   0   0   0   0  40 214 250 254 254 254 254 254\n",
            "   34   0   0   0   0   0   0   0   0   0]\n",
            " [  0   0   0   0   0   0   0   0   0   0  81 247 254 254 254 254 254 254\n",
            "  146   0   0   0   0   0   0   0   0   0]\n",
            " [  0   0   0   0   0   0   0   0   0   0   0 110 246 254 254 254 254 254\n",
            "  171   0   0   0   0   0   0   0   0   0]\n",
            " [  0   0   0   0   0   0   0   0   0   0   0   0  73  89  89  93 240 254\n",
            "  171   0   0   0   0   0   0   0   0   0]\n",
            " [  0   0   0   0   0   0   0   0   0   0   0   0   0   0   0   1 128 254\n",
            "  219  31   0   0   0   0   0   0   0   0]\n",
            " [  0   0   0   0   0   0   0   0   0   0   0   0   0   0   0   7 254 254\n",
            "  214  28   0   0   0   0   0   0   0   0]\n",
            " [  0   0   0   0   0   0   0   0   0   0   0   0   0   0   0 138 254 254\n",
            "  116   0   0   0   0   0   0   0   0   0]\n",
            " [  0   0   0   0   0   0  19 177  90   0   0   0   0   0  25 240 254 254\n",
            "   34   0   0   0   0   0   0   0   0   0]\n",
            " [  0   0   0   0   0   0 164 254 215  63  36   0  51  89 206 254 254 139\n",
            "    8   0   0   0   0   0   0   0   0   0]\n",
            " [  0   0   0   0   0   0  57 197 254 254 222 180 241 254 254 253 213  11\n",
            "    0   0   0   0   0   0   0   0   0   0]\n",
            " [  0   0   0   0   0   0   0 140 105 254 254 254 254 254 254 236   0   0\n",
            "    0   0   0   0   0   0   0   0   0   0]\n",
            " [  0   0   0   0   0   0   0   0   7 117 117 165 254 254 239  50   0   0\n",
            "    0   0   0   0   0   0   0   0   0   0]\n",
            " [  0   0   0   0   0   0   0   0   0   0   0   0   0   0   0   0   0   0\n",
            "    0   0   0   0   0   0   0   0   0   0]\n",
            " [  0   0   0   0   0   0   0   0   0   0   0   0   0   0   0   0   0   0\n",
            "    0   0   0   0   0   0   0   0   0   0]\n",
            " [  0   0   0   0   0   0   0   0   0   0   0   0   0   0   0   0   0   0\n",
            "    0   0   0   0   0   0   0   0   0   0]\n",
            " [  0   0   0   0   0   0   0   0   0   0   0   0   0   0   0   0   0   0\n",
            "    0   0   0   0   0   0   0   0   0   0]]\n"
          ]
        },
        {
          "data": {
            "image/png": "[encoded data removed]",
            "text/plain": [
              "<Figure size 640x480 with 1 Axes>"
            ]
          },
          "metadata": {},
          "output_type": "display_data"
        }
      ],
      "source": [
        "plt.imshow(x_train[10])\n",
        "print(x_train[10])"
      ]
    },
    {
      "cell_type": "code",
      "execution_count": 4,
      "metadata": {
        "id": "mVHPR3sRdwfg"
      },
      "outputs": [],
      "source": [
        "x_train=tf.keras.utils.normalize(x_train,axis=1)\n",
        "x_test=tf.keras.utils.normalize(x_test,axis=1)"
      ]
    },
    {
      "cell_type": "code",
      "execution_count": null,
      "metadata": {
        "colab": {
          "base_uri": "https://localhost:8080/",
          "height": 1000
        },
        "id": "W9l_Ckl_eHpd",
        "outputId": "d15b6569-72b6-4b28-a876-00e2e1536ce6"
      },
      "outputs": [
        {
          "name": "stdout",
          "output_type": "stream",
          "text": [
            "[[0.         0.         0.         0.         0.         0.\n",
            "  0.         0.         0.         0.         0.         0.\n",
            "  0.         0.         0.         0.         0.         0.\n",
            "  0.         0.         0.         0.         0.         0.\n",
            "  0.         0.         0.         0.        ]\n",
            " [0.         0.         0.         0.         0.         0.\n",
            "  0.         0.         0.         0.         0.         0.\n",
            "  0.         0.         0.         0.         0.         0.\n",
            "  0.         0.         0.         0.         0.         0.\n",
            "  0.         0.         0.         0.        ]\n",
            " [0.         0.         0.         0.         0.         0.\n",
            "  0.         0.         0.         0.         0.         0.\n",
            "  0.         0.         0.         0.         0.         0.\n",
            "  0.         0.         0.         0.         0.         0.\n",
            "  0.         0.         0.         0.        ]\n",
            " [0.         0.         0.         0.         0.         0.\n",
            "  0.         0.         0.         0.         0.         0.\n",
            "  0.         0.         0.         0.         0.         0.\n",
            "  0.         0.         0.         0.         0.         0.\n",
            "  0.         0.         0.         0.        ]\n",
            " [0.         0.         0.         0.         0.         0.\n",
            "  0.         0.         0.         0.         0.         0.06923363\n",
            "  0.14712657 0.24945318 0.1796561  0.12228485 0.11590366 0.0062582\n",
            "  0.         0.         0.         0.         0.         0.\n",
            "  0.         0.         0.         0.        ]\n",
            " [0.         0.         0.         0.         0.         0.\n",
            "  0.         0.         0.         0.         0.26784526 0.3989176\n",
            "  0.31669617 0.28932012 0.27489548 0.26322332 0.24948754 0.06884022\n",
            "  0.         0.         0.         0.         0.         0.\n",
            "  0.         0.         0.         0.        ]\n",
            " [0.         0.         0.         0.         0.         0.\n",
            "  0.         0.         0.         0.         0.04680791 0.3824334\n",
            "  0.31669617 0.28932012 0.27489548 0.26322332 0.24948754 0.248242\n",
            "  0.13760186 0.         0.         0.         0.         0.\n",
            "  0.         0.         0.         0.        ]\n",
            " [0.         0.         0.         0.         0.         0.\n",
            "  0.         0.         0.         0.         0.         0.17143566\n",
            "  0.30422781 0.28932012 0.24242751 0.26322332 0.24948754 0.26493053\n",
            "  0.27716945 0.         0.         0.         0.         0.\n",
            "  0.         0.         0.         0.        ]\n",
            " [0.         0.         0.         0.         0.         0.\n",
            "  0.         0.         0.         0.         0.         0.\n",
            "  0.25809491 0.28932012 0.22727579 0.26322332 0.24948754 0.26493053\n",
            "  0.06683519 0.         0.         0.         0.         0.\n",
            "  0.         0.         0.         0.        ]\n",
            " [0.         0.         0.         0.         0.         0.\n",
            "  0.         0.         0.         0.         0.         0.\n",
            "  0.10473417 0.23464545 0.27489548 0.26322332 0.24948754 0.26493053\n",
            "  0.08059537 0.         0.         0.         0.         0.\n",
            "  0.         0.         0.         0.        ]\n",
            " [0.         0.         0.         0.         0.         0.\n",
            "  0.         0.         0.         0.         0.         0.\n",
            "  0.         0.02733733 0.22619352 0.26322332 0.24948754 0.26493053\n",
            "  0.33614168 0.         0.         0.         0.         0.\n",
            "  0.         0.         0.         0.        ]\n",
            " [0.         0.         0.         0.         0.         0.\n",
            "  0.         0.         0.         0.         0.         0.\n",
            "  0.11346201 0.15605062 0.27381321 0.26322332 0.24948754 0.26493053\n",
            "  0.22016297 0.         0.         0.         0.         0.\n",
            "  0.         0.         0.         0.        ]\n",
            " [0.         0.         0.         0.         0.         0.\n",
            "  0.         0.         0.         0.         0.10401758 0.35276184\n",
            "  0.31170883 0.28932012 0.27489548 0.26322332 0.24948754 0.26493053\n",
            "  0.06683519 0.         0.         0.         0.         0.\n",
            "  0.         0.         0.         0.        ]\n",
            " [0.         0.         0.         0.         0.         0.\n",
            "  0.         0.         0.         0.         0.2106356  0.4071597\n",
            "  0.31669617 0.28932012 0.27489548 0.26322332 0.24948754 0.26493053\n",
            "  0.28699816 0.         0.         0.         0.         0.\n",
            "  0.         0.         0.         0.        ]\n",
            " [0.         0.         0.         0.         0.         0.\n",
            "  0.         0.         0.         0.         0.         0.18132618\n",
            "  0.30672148 0.28932012 0.27489548 0.26322332 0.24948754 0.26493053\n",
            "  0.33614168 0.         0.         0.         0.         0.\n",
            "  0.         0.         0.         0.        ]\n",
            " [0.         0.         0.         0.         0.         0.\n",
            "  0.         0.         0.         0.         0.         0.\n",
            "  0.09101898 0.10137595 0.09632164 0.09637704 0.23573625 0.26493053\n",
            "  0.33614168 0.         0.         0.         0.         0.\n",
            "  0.         0.         0.         0.        ]\n",
            " [0.         0.         0.         0.         0.         0.\n",
            "  0.         0.         0.         0.         0.         0.\n",
            "  0.         0.         0.         0.00103631 0.125726   0.26493053\n",
            "  0.43049724 0.74210264 0.         0.         0.         0.\n",
            "  0.         0.         0.         0.        ]\n",
            " [0.         0.         0.         0.         0.         0.\n",
            "  0.         0.         0.         0.         0.         0.\n",
            "  0.         0.         0.         0.00725419 0.24948754 0.26493053\n",
            "  0.42066853 0.67028626 0.         0.         0.         0.\n",
            "  0.         0.         0.         0.        ]\n",
            " [0.         0.         0.         0.         0.         0.\n",
            "  0.         0.         0.         0.         0.         0.\n",
            "  0.         0.         0.         0.14301109 0.24948754 0.26493053\n",
            "  0.22802593 0.         0.         0.         0.         0.\n",
            "  0.         0.         0.         0.        ]\n",
            " [0.         0.         0.         0.         0.         0.\n",
            "  0.10878298 0.45066626 0.24969673 0.         0.         0.\n",
            "  0.         0.         0.02705664 0.24871495 0.24948754 0.26493053\n",
            "  0.06683519 0.         0.         0.         0.         0.\n",
            "  0.         0.         0.         0.        ]\n",
            " [0.         0.         0.         0.         0.         0.\n",
            "  0.93896892 0.64671882 0.59649775 0.1644903  0.09361582 0.\n",
            "  0.0635886  0.10137595 0.22294673 0.26322332 0.24948754 0.14498167\n",
            "  0.01572593 0.         0.         0.         0.         0.\n",
            "  0.         0.         0.         0.        ]\n",
            " [0.         0.         0.         0.         0.         0.\n",
            "  0.32634895 0.50158901 0.70469967 0.66318312 0.57729756 0.29671557\n",
            "  0.30048731 0.28932012 0.27489548 0.26218701 0.20921593 0.01147337\n",
            "  0.         0.         0.         0.         0.         0.\n",
            "  0.         0.         0.         0.        ]\n",
            " [0.         0.         0.         0.         0.         0.\n",
            "  0.         0.35645919 0.29131286 0.66318312 0.66051162 0.41869864\n",
            "  0.31669617 0.28932012 0.27489548 0.2445697  0.         0.\n",
            "  0.         0.         0.         0.         0.         0.\n",
            "  0.         0.         0.         0.        ]\n",
            " [0.         0.         0.         0.         0.         0.\n",
            "  0.         0.         0.01942086 0.30548199 0.30425142 0.27198927\n",
            "  0.31669617 0.28932012 0.25866149 0.05181561 0.         0.\n",
            "  0.         0.         0.         0.         0.         0.\n",
            "  0.         0.         0.         0.        ]\n",
            " [0.         0.         0.         0.         0.         0.\n",
            "  0.         0.         0.         0.         0.         0.\n",
            "  0.         0.         0.         0.         0.         0.\n",
            "  0.         0.         0.         0.         0.         0.\n",
            "  0.         0.         0.         0.        ]\n",
            " [0.         0.         0.         0.         0.         0.\n",
            "  0.         0.         0.         0.         0.         0.\n",
            "  0.         0.         0.         0.         0.         0.\n",
            "  0.         0.         0.         0.         0.         0.\n",
            "  0.         0.         0.         0.        ]\n",
            " [0.         0.         0.         0.         0.         0.\n",
            "  0.         0.         0.         0.         0.         0.\n",
            "  0.         0.         0.         0.         0.         0.\n",
            "  0.         0.         0.         0.         0.         0.\n",
            "  0.         0.         0.         0.        ]\n",
            " [0.         0.         0.         0.         0.         0.\n",
            "  0.         0.         0.         0.         0.         0.\n",
            "  0.         0.         0.         0.         0.         0.\n",
            "  0.         0.         0.         0.         0.         0.\n",
            "  0.         0.         0.         0.        ]]\n"
          ]
        },
        {
          "data": {
            "image/png": "[encoded data removed]",
            "text/plain": [
              "<Figure size 640x480 with 1 Axes>"
            ]
          },
          "metadata": {},
          "output_type": "display_data"
        }
      ],
      "source": [
        "plt.imshow(x_train[10])\n",
        "print(x_train[10])"
      ]
    },
    {
      "cell_type": "markdown",
      "metadata": {
        "id": "F7BmbR08eVgf"
      },
      "source": [
        "#build model\n"
      ]
    },
    {
      "cell_type": "code",
      "execution_count": 5,
      "metadata": {
        "colab": {
          "base_uri": "https://localhost:8080/"
        },
        "id": "yWfjaSoneNUB",
        "outputId": "7e777189-d9eb-4472-a41f-247c4f40e238"
      },
      "outputs": [
        {
          "name": "stdout",
          "output_type": "stream",
          "text": [
            "Epoch 1/3\n",
            "1875/1875 [==============================] - 9s 4ms/step - loss: 0.2568 - accuracy: 0.9251\n",
            "Epoch 2/3\n",
            "1875/1875 [==============================] - 8s 4ms/step - loss: 0.1046 - accuracy: 0.9671\n",
            "Epoch 3/3\n",
            "1875/1875 [==============================] - 7s 4ms/step - loss: 0.0710 - accuracy: 0.9782\n"
          ]
        }
      ],
      "source": [
        "model1=tf.keras.models.Sequential()\n",
        "model1.add(tf.keras.layers.Flatten())\n",
        "model1.add(tf.keras.layers.Dense(128,activation=tf.nn.relu))\n",
        "model1.add(tf.keras.layers.Dense(128,activation=tf.nn.relu))\n",
        "model1.add(tf.keras.layers.Dense(10,activation=tf.nn.softmax))\n",
        "model1.compile(optimizer='adam', loss='sparse_categorical_crossentropy', metrics=['accuracy'])\n",
        "history1=model1.fit(x_train,y_train ,epochs=3)"
      ]
    },
    {
      "cell_type": "code",
      "execution_count": 6,
      "metadata": {
        "colab": {
          "base_uri": "https://localhost:8080/"
        },
        "id": "0Z-vFve3f-UY",
        "outputId": "be3bd187-1799-4826-a12c-f30fa073dc86"
      },
      "outputs": [
        {
          "name": "stdout",
          "output_type": "stream",
          "text": [
            "313/313 [==============================] - 1s 2ms/step - loss: 0.0949 - accuracy: 0.9703\n",
            "0.09488580375909805 0.970300018787384\n"
          ]
        }
      ],
      "source": [
        "#model1=activation(relu) & layers(128,128)\n",
        "val_loss1 , val_Acc1=model1.evaluate(x_test,y_test)\n",
        "print(val_loss1 , val_Acc1)"
      ]
    },
    {
      "cell_type": "code",
      "execution_count": 7,
      "metadata": {
        "colab": {
          "base_uri": "https://localhost:8080/"
        },
        "id": "bTItBApWPATB",
        "outputId": "ef42036e-bedf-4082-d6b5-72acdd911055"
      },
      "outputs": [
        {
          "name": "stdout",
          "output_type": "stream",
          "text": [
            "Epoch 1/3\n",
            "1875/1875 [==============================] - 8s 4ms/step - loss: 0.3104 - accuracy: 0.9085\n",
            "Epoch 2/3\n",
            "1875/1875 [==============================] - 8s 4ms/step - loss: 0.1604 - accuracy: 0.9519\n",
            "Epoch 3/3\n",
            "1875/1875 [==============================] - 8s 4ms/step - loss: 0.1111 - accuracy: 0.9658\n"
          ]
        }
      ],
      "source": [
        "model2=tf.keras.models.Sequential()\n",
        "model2.add(tf.keras.layers.Flatten())\n",
        "model2.add(tf.keras.layers.Dense(128,activation=tf.nn.tanh))\n",
        "model2.add(tf.keras.layers.Dense(128,activation=tf.nn.tanh))\n",
        "model2.add(tf.keras.layers.Dense(10,activation=tf.nn.softmax))\n",
        "model2.compile(optimizer='adam', loss='sparse_categorical_crossentropy', metrics=['accuracy'])\n",
        "history2=model2.fit(x_train,y_train ,epochs=3)"
      ]
    },
    {
      "cell_type": "code",
      "execution_count": 8,
      "metadata": {
        "colab": {
          "base_uri": "https://localhost:8080/"
        },
        "id": "R8F_IBOVMKtA",
        "outputId": "fc4fddf7-1e05-4670-f587-a815987d0ec7"
      },
      "outputs": [
        {
          "name": "stdout",
          "output_type": "stream",
          "text": [
            "313/313 [==============================] - 1s 3ms/step - loss: 0.1192 - accuracy: 0.9637\n",
            "0.11916345357894897 0.963699996471405\n"
          ]
        }
      ],
      "source": [
        "#model2=activation(tanh) & layers(128,128)\n",
        "val_loss2 , val_Acc2=model2.evaluate(x_test,y_test)\n",
        "print(val_loss2 , val_Acc2)"
      ]
    },
    {
      "cell_type": "code",
      "execution_count": 9,
      "metadata": {
        "colab": {
          "base_uri": "https://localhost:8080/"
        },
        "id": "rzCpPLatOWPd",
        "outputId": "58ec6fcd-41ef-46d7-e8a8-119f0f537ec4"
      },
      "outputs": [
        {
          "name": "stdout",
          "output_type": "stream",
          "text": [
            "Epoch 1/3\n",
            "1875/1875 [==============================] - 9s 4ms/step - loss: 0.3235 - accuracy: 0.9051\n",
            "Epoch 2/3\n",
            "1875/1875 [==============================] - 7s 4ms/step - loss: 0.1772 - accuracy: 0.9463\n",
            "Epoch 3/3\n",
            "1875/1875 [==============================] - 8s 5ms/step - loss: 0.1238 - accuracy: 0.9615\n"
          ]
        }
      ],
      "source": [
        "model3=tf.keras.models.Sequential()\n",
        "model3.add(tf.keras.layers.Flatten())\n",
        "model3.add(tf.keras.layers.Dense(128,activation=tf.nn.selu))\n",
        "model3.add(tf.keras.layers.Dense(128,activation=tf.nn.selu))\n",
        "model3.add(tf.keras.layers.Dense(10,activation=tf.nn.softmax))\n",
        "model3.compile(optimizer='adam', loss='sparse_categorical_crossentropy', metrics=['accuracy'])\n",
        "history3=model3.fit(x_train,y_train ,epochs=3)"
      ]
    },
    {
      "cell_type": "code",
      "execution_count": 10,
      "metadata": {
        "colab": {
          "base_uri": "https://localhost:8080/"
        },
        "id": "cYTZQbsrSYXt",
        "outputId": "0768086f-f12f-41a3-c34d-7ec22f3ef8bc"
      },
      "outputs": [
        {
          "name": "stdout",
          "output_type": "stream",
          "text": [
            "313/313 [==============================] - 1s 2ms/step - loss: 0.1301 - accuracy: 0.9607\n",
            "0.13010169565677643 0.9606999754905701\n"
          ]
        }
      ],
      "source": [
        "#model3=activation(selu) & layers(128,128)\n",
        "val_loss3 , val_Acc3=model3.evaluate(x_test,y_test)\n",
        "print(val_loss3 , val_Acc3)"
      ]
    },
    {
      "cell_type": "code",
      "execution_count": 11,
      "metadata": {
        "colab": {
          "base_uri": "https://localhost:8080/"
        },
        "id": "0f9eItK6MNV9",
        "outputId": "e872ebed-ebf0-4295-9d31-2063b8f8912c"
      },
      "outputs": [
        {
          "name": "stdout",
          "output_type": "stream",
          "text": [
            "Epoch 1/3\n",
            "1875/1875 [==============================] - 9s 4ms/step - loss: 0.3076 - accuracy: 0.9086\n",
            "Epoch 2/3\n",
            "1875/1875 [==============================] - 7s 4ms/step - loss: 0.1509 - accuracy: 0.9538\n",
            "Epoch 3/3\n",
            "1875/1875 [==============================] - 8s 4ms/step - loss: 0.1029 - accuracy: 0.9675\n"
          ]
        }
      ],
      "source": [
        "model4=tf.keras.models.Sequential()\n",
        "model4.add(tf.keras.layers.Flatten())\n",
        "model4.add(tf.keras.layers.Dense(128,activation=tf.nn.elu))\n",
        "model4.add(tf.keras.layers.Dense(128,activation=tf.nn.elu))\n",
        "model4.add(tf.keras.layers.Dense(10,activation=tf.nn.softmax))\n",
        "model4.compile(optimizer='adam', loss='sparse_categorical_crossentropy', metrics=['accuracy'])\n",
        "history4=model4.fit(x_train,y_train ,epochs=3)"
      ]
    },
    {
      "cell_type": "code",
      "execution_count": 12,
      "metadata": {
        "colab": {
          "base_uri": "https://localhost:8080/"
        },
        "id": "ZopCuCgkSYlx",
        "outputId": "a027cc7c-d1b4-490d-cc85-4191ab71ab00"
      },
      "outputs": [
        {
          "name": "stdout",
          "output_type": "stream",
          "text": [
            "313/313 [==============================] - 1s 2ms/step - loss: 0.1209 - accuracy: 0.9624\n",
            "0.12086360156536102 0.9624000191688538\n"
          ]
        }
      ],
      "source": [
        "#model4=activation(elu) & layers(128,128)\n",
        "val_loss4 , val_Acc4=model4.evaluate(x_test,y_test)\n",
        "print(val_loss4 , val_Acc4)"
      ]
    },
    {
      "cell_type": "code",
      "execution_count": 13,
      "metadata": {
        "colab": {
          "base_uri": "https://localhost:8080/"
        },
        "id": "9zhNWmzAQpdv",
        "outputId": "7040c93a-b58c-408f-eb28-5166aa3e7e61"
      },
      "outputs": [
        {
          "name": "stdout",
          "output_type": "stream",
          "text": [
            "Epoch 1/3\n",
            "1875/1875 [==============================] - 7s 4ms/step - loss: 0.2829 - accuracy: 0.9165\n",
            "Epoch 2/3\n",
            "1875/1875 [==============================] - 8s 4ms/step - loss: 0.1288 - accuracy: 0.9600\n",
            "Epoch 3/3\n",
            "1875/1875 [==============================] - 7s 4ms/step - loss: 0.0898 - accuracy: 0.9720\n"
          ]
        }
      ],
      "source": [
        "model5=tf.keras.models.Sequential()\n",
        "model5.add(tf.keras.layers.Flatten())\n",
        "model5.add(tf.keras.layers.Dense(128,activation=tf.nn.leaky_relu))\n",
        "model5.add(tf.keras.layers.Dense(128,activation=tf.nn.leaky_relu))\n",
        "model5.add(tf.keras.layers.Dense(10,activation=tf.nn.softmax))\n",
        "model5.compile(optimizer='adam', loss='sparse_categorical_crossentropy', metrics=['accuracy'])\n",
        "history5=model5.fit(x_train,y_train ,epochs=3)"
      ]
    },
    {
      "cell_type": "code",
      "execution_count": 14,
      "metadata": {
        "colab": {
          "base_uri": "https://localhost:8080/"
        },
        "id": "hLWeFXyVSYyx",
        "outputId": "f147b2c7-4f11-4a46-f231-f79e59de4d79"
      },
      "outputs": [
        {
          "name": "stdout",
          "output_type": "stream",
          "text": [
            "313/313 [==============================] - 1s 2ms/step - loss: 0.1129 - accuracy: 0.9671\n",
            "0.1128867045044899 0.9671000242233276\n"
          ]
        }
      ],
      "source": [
        "#model5=activation(leaky_relu) & layers(128,128)\n",
        "val_loss5 , val_Acc5=model5.evaluate(x_test,y_test)\n",
        "print(val_loss5 , val_Acc5)"
      ]
    },
    {
      "cell_type": "code",
      "execution_count": 15,
      "metadata": {
        "colab": {
          "base_uri": "https://localhost:8080/"
        },
        "id": "GT8pVQPLTrmJ",
        "outputId": "da014ee7-c7b0-4663-93d3-8fc3fb133604"
      },
      "outputs": [
        {
          "name": "stdout",
          "output_type": "stream",
          "text": [
            "Epoch 1/3\n",
            "1875/1875 [==============================] - 8s 4ms/step - loss: 0.2661 - accuracy: 0.9239\n",
            "Epoch 2/3\n",
            "1875/1875 [==============================] - 8s 4ms/step - loss: 0.1092 - accuracy: 0.9660\n",
            "Epoch 3/3\n",
            "1875/1875 [==============================] - 8s 4ms/step - loss: 0.0736 - accuracy: 0.9769\n"
          ]
        }
      ],
      "source": [
        "model6=tf.keras.models.Sequential()\n",
        "model6.add(tf.keras.layers.Flatten())\n",
        "model6.add(tf.keras.layers.Dense(128,activation=tf.nn.relu6))\n",
        "model6.add(tf.keras.layers.Dense(128,activation=tf.nn.relu6))\n",
        "model6.add(tf.keras.layers.Dense(10,activation=tf.nn.softmax))\n",
        "model6.compile(optimizer='adam', loss='sparse_categorical_crossentropy', metrics=['accuracy'])\n",
        "history6=model6.fit(x_train,y_train ,epochs=3)"
      ]
    },
    {
      "cell_type": "code",
      "execution_count": 16,
      "metadata": {
        "colab": {
          "base_uri": "https://localhost:8080/"
        },
        "id": "7a5ak9nbSZFC",
        "outputId": "ca66a4c9-833f-4a7c-e72e-217f0616cc0a"
      },
      "outputs": [
        {
          "name": "stdout",
          "output_type": "stream",
          "text": [
            "313/313 [==============================] - 1s 2ms/step - loss: 0.0949 - accuracy: 0.9697\n",
            "0.09488429129123688 0.9696999788284302\n"
          ]
        }
      ],
      "source": [
        "#model6=activation(relu6) & layers(128,128)\n",
        "val_loss6 , val_Acc6=model6.evaluate(x_test,y_test)\n",
        "print(val_loss6 , val_Acc6)"
      ]
    },
    {
      "cell_type": "code",
      "execution_count": 17,
      "metadata": {
        "colab": {
          "base_uri": "https://localhost:8080/"
        },
        "id": "Qi5K_xTGLi_t",
        "outputId": "95e6b42a-08f0-43e3-9d8d-e28c33cdc4b8"
      },
      "outputs": [
        {
          "name": "stdout",
          "output_type": "stream",
          "text": [
            "Epoch 1/3\n",
            "1875/1875 [==============================] - 8s 4ms/step - loss: 0.2708 - accuracy: 0.9200\n",
            "Epoch 2/3\n",
            "1875/1875 [==============================] - 9s 5ms/step - loss: 0.1096 - accuracy: 0.9657\n",
            "Epoch 3/3\n",
            "1875/1875 [==============================] - 8s 4ms/step - loss: 0.0719 - accuracy: 0.9772\n"
          ]
        }
      ],
      "source": [
        "model7=tf.keras.models.Sequential()\n",
        "model7.add(tf.keras.layers.Flatten())\n",
        "model7.add(tf.keras.layers.Dense(128,activation=tf.nn.gelu))\n",
        "model7.add(tf.keras.layers.Dense(128,activation=tf.nn.gelu))\n",
        "model7.add(tf.keras.layers.Dense(10,activation=tf.nn.softmax))\n",
        "model7.compile(optimizer='adam', loss='sparse_categorical_crossentropy', metrics=['accuracy'])\n",
        "history7=model7.fit(x_train,y_train ,epochs=3)"
      ]
    },
    {
      "cell_type": "code",
      "execution_count": 18,
      "metadata": {
        "colab": {
          "base_uri": "https://localhost:8080/"
        },
        "id": "eA7mtEKYLjO3",
        "outputId": "f78af450-5b8c-48b4-ee1d-07b74bcdd72b"
      },
      "outputs": [
        {
          "name": "stdout",
          "output_type": "stream",
          "text": [
            "313/313 [==============================] - 1s 2ms/step - loss: 0.0877 - accuracy: 0.9713\n",
            "0.08768527954816818 0.9713000059127808\n"
          ]
        }
      ],
      "source": [
        "#model7=activation(gelu) & layers(128,128)\n",
        "val_loss7 , val_Acc7=model7.evaluate(x_test,y_test)\n",
        "print(val_loss7 , val_Acc7)"
      ]
    },
    {
      "cell_type": "code",
      "execution_count": 19,
      "metadata": {
        "colab": {
          "base_uri": "https://localhost:8080/"
        },
        "id": "uXjSWKkBMypC",
        "outputId": "bda2d730-f91b-44a6-84a3-328547fdb6ef"
      },
      "outputs": [
        {
          "name": "stdout",
          "output_type": "stream",
          "text": [
            "Epoch 1/6\n",
            "1875/1875 [==============================] - 12s 6ms/step - loss: 0.2319 - accuracy: 0.9313\n",
            "Epoch 2/6\n",
            "1875/1875 [==============================] - 10s 6ms/step - loss: 0.0921 - accuracy: 0.9712\n",
            "Epoch 3/6\n",
            "1875/1875 [==============================] - 10s 6ms/step - loss: 0.0614 - accuracy: 0.9803\n",
            "Epoch 4/6\n",
            "1875/1875 [==============================] - 11s 6ms/step - loss: 0.0440 - accuracy: 0.9861\n",
            "Epoch 5/6\n",
            "1875/1875 [==============================] - 9s 5ms/step - loss: 0.0334 - accuracy: 0.9891\n",
            "Epoch 6/6\n",
            "1875/1875 [==============================] - 10s 6ms/step - loss: 0.0263 - accuracy: 0.9908\n"
          ]
        }
      ],
      "source": [
        "model8=tf.keras.models.Sequential()\n",
        "model8.add(tf.keras.layers.Flatten())\n",
        "model8.add(tf.keras.layers.Dense(256,activation=tf.nn.relu))\n",
        "model8.add(tf.keras.layers.Dense(128,activation=tf.nn.relu))\n",
        "model8.add(tf.keras.layers.Dense(10,activation=tf.nn.softmax))\n",
        "model8.compile(optimizer='adam', loss='sparse_categorical_crossentropy', metrics=['accuracy'])\n",
        "history8=model8.fit(x_train,y_train ,epochs=6)"
      ]
    },
    {
      "cell_type": "code",
      "execution_count": 20,
      "metadata": {
        "colab": {
          "base_uri": "https://localhost:8080/"
        },
        "id": "gQAh4l2aMypE",
        "outputId": "10d32762-9bfc-4389-f4cf-90cb7d3e2e85"
      },
      "outputs": [
        {
          "name": "stdout",
          "output_type": "stream",
          "text": [
            "313/313 [==============================] - 1s 4ms/step - loss: 0.0926 - accuracy: 0.9752\n",
            "0.09261713176965714 0.9751999974250793\n"
          ]
        }
      ],
      "source": [
        "#model8=activation(relu) & layers(256,128) & epochs(6)\n",
        "val_loss8 , val_Acc8=model8.evaluate(x_test,y_test)\n",
        "print(val_loss8 , val_Acc8)"
      ]
    },
    {
      "cell_type": "code",
      "execution_count": 21,
      "metadata": {
        "colab": {
          "base_uri": "https://localhost:8080/"
        },
        "id": "9gvqE4f4NimF",
        "outputId": "2ac2e0cd-b162-41db-a5d5-d7ae4dbc4d4d"
      },
      "outputs": [
        {
          "name": "stdout",
          "output_type": "stream",
          "text": [
            "Epoch 1/6\n",
            "1875/1875 [==============================] - 11s 6ms/step - loss: 0.2325 - accuracy: 0.9316\n",
            "Epoch 2/6\n",
            "1875/1875 [==============================] - 10s 5ms/step - loss: 0.0907 - accuracy: 0.9718\n",
            "Epoch 3/6\n",
            "1875/1875 [==============================] - 9s 5ms/step - loss: 0.0598 - accuracy: 0.9814\n",
            "Epoch 4/6\n",
            "1875/1875 [==============================] - 10s 6ms/step - loss: 0.0433 - accuracy: 0.9856\n",
            "Epoch 5/6\n",
            "1875/1875 [==============================] - 10s 5ms/step - loss: 0.0317 - accuracy: 0.9898\n",
            "Epoch 6/6\n",
            "1875/1875 [==============================] - 10s 5ms/step - loss: 0.0266 - accuracy: 0.9906\n"
          ]
        }
      ],
      "source": [
        "model9=tf.keras.models.Sequential()\n",
        "model9.add(tf.keras.layers.Flatten())\n",
        "model9.add(tf.keras.layers.Dense(256,activation=tf.nn.relu6))\n",
        "model9.add(tf.keras.layers.Dense(128,activation=tf.nn.relu6))\n",
        "model9.add(tf.keras.layers.Dense(10,activation=tf.nn.softmax))\n",
        "model9.compile(optimizer='adam', loss='sparse_categorical_crossentropy', metrics=['accuracy'])\n",
        "history9=model9.fit(x_train,y_train ,epochs=6)"
      ]
    },
    {
      "cell_type": "code",
      "execution_count": 22,
      "metadata": {
        "colab": {
          "base_uri": "https://localhost:8080/"
        },
        "id": "aptoV1m8NimH",
        "outputId": "59c52670-9c6f-4389-85f6-1025ef173b6e"
      },
      "outputs": [
        {
          "name": "stdout",
          "output_type": "stream",
          "text": [
            "313/313 [==============================] - 1s 2ms/step - loss: 0.0918 - accuracy: 0.9759\n",
            "0.09178763628005981 0.9758999943733215\n"
          ]
        }
      ],
      "source": [
        "#model9=activation(relu6) & layers(256,128) & epochs(6)\n",
        "val_loss9 , val_Acc9=model9.evaluate(x_test,y_test)\n",
        "print(val_loss9 , val_Acc9)"
      ]
    },
    {
      "cell_type": "code",
      "execution_count": 23,
      "metadata": {
        "colab": {
          "base_uri": "https://localhost:8080/"
        },
        "id": "lCa0K0XkODFE",
        "outputId": "f0b2ff5d-384b-44d2-a455-26a160440546"
      },
      "outputs": [
        {
          "name": "stdout",
          "output_type": "stream",
          "text": [
            "Epoch 1/6\n",
            "1875/1875 [==============================] - 11s 6ms/step - loss: 0.2463 - accuracy: 0.9258\n",
            "Epoch 2/6\n",
            "1875/1875 [==============================] - 10s 6ms/step - loss: 0.0950 - accuracy: 0.9702\n",
            "Epoch 3/6\n",
            "1875/1875 [==============================] - 11s 6ms/step - loss: 0.0601 - accuracy: 0.9806\n",
            "Epoch 4/6\n",
            "1875/1875 [==============================] - 9s 5ms/step - loss: 0.0419 - accuracy: 0.9863\n",
            "Epoch 5/6\n",
            "1875/1875 [==============================] - 10s 6ms/step - loss: 0.0285 - accuracy: 0.9906\n",
            "Epoch 6/6\n",
            "1875/1875 [==============================] - 12s 7ms/step - loss: 0.0225 - accuracy: 0.9924\n"
          ]
        }
      ],
      "source": [
        "model10=tf.keras.models.Sequential()\n",
        "model10.add(tf.keras.layers.Flatten())\n",
        "model10.add(tf.keras.layers.Dense(256,activation=tf.nn.gelu))\n",
        "model10.add(tf.keras.layers.Dense(128,activation=tf.nn.gelu))\n",
        "model10.add(tf.keras.layers.Dense(10,activation=tf.nn.softmax))\n",
        "model10.compile(optimizer='adam', loss='sparse_categorical_crossentropy', metrics=['accuracy'])\n",
        "history10=model10.fit(x_train,y_train ,epochs=6)"
      ]
    },
    {
      "cell_type": "code",
      "execution_count": 24,
      "metadata": {
        "colab": {
          "base_uri": "https://localhost:8080/"
        },
        "id": "tIlIK3HNODFG",
        "outputId": "ab731f84-c2ec-43d4-d28e-c30666c60e27"
      },
      "outputs": [
        {
          "name": "stdout",
          "output_type": "stream",
          "text": [
            "313/313 [==============================] - 1s 3ms/step - loss: 0.0814 - accuracy: 0.9776\n",
            "0.08144478499889374 0.9775999784469604\n"
          ]
        }
      ],
      "source": [
        "#model10=activation(gelu) & layers(256,128) & epochs(6)\n",
        "val_loss10 , val_Acc10=model10.evaluate(x_test,y_test)\n",
        "print(val_loss10 , val_Acc10)"
      ]
    },
    {
      "cell_type": "code",
      "execution_count": 61,
      "metadata": {
        "colab": {
          "base_uri": "https://localhost:8080/"
        },
        "id": "0OTfMDg4mkpy",
        "outputId": "3440d6b9-f94a-4df7-a2dd-5d18e30ad3e6"
      },
      "outputs": [
        {
          "name": "stdout",
          "output_type": "stream",
          "text": [
            "Epoch 1/6\n",
            "1875/1875 [==============================] - 14s 7ms/step - loss: 0.2342 - accuracy: 0.9291\n",
            "Epoch 2/6\n",
            "1875/1875 [==============================] - 19s 10ms/step - loss: 0.0936 - accuracy: 0.9711\n",
            "Epoch 3/6\n",
            "1875/1875 [==============================] - 13s 7ms/step - loss: 0.0650 - accuracy: 0.9794\n",
            "Epoch 4/6\n",
            "1875/1875 [==============================] - 10s 6ms/step - loss: 0.0472 - accuracy: 0.9844\n",
            "Epoch 5/6\n",
            "1875/1875 [==============================] - 14s 7ms/step - loss: 0.0379 - accuracy: 0.9878\n",
            "Epoch 6/6\n",
            "1875/1875 [==============================] - 11s 6ms/step - loss: 0.0313 - accuracy: 0.9897\n"
          ]
        }
      ],
      "source": [
        "model11=tf.keras.models.Sequential()\n",
        "model11.add(tf.keras.layers.Flatten())\n",
        "model11.add(tf.keras.layers.Dense(256,activation=tf.nn.relu))\n",
        "model11.add(tf.keras.layers.Dense(128,activation=tf.nn.relu))\n",
        "model11.add(tf.keras.layers.Dense(64,activation=tf.nn.relu))\n",
        "model11.add(tf.keras.layers.Dense(10,activation=tf.nn.softmax))\n",
        "model11.compile(optimizer='adam', loss='sparse_categorical_crossentropy', metrics=['accuracy'])\n",
        "history11=model11.fit(x_train,y_train ,epochs=6)"
      ]
    },
    {
      "cell_type": "code",
      "execution_count": 62,
      "metadata": {
        "colab": {
          "base_uri": "https://localhost:8080/"
        },
        "id": "nmEL2CTmmkp0",
        "outputId": "8b12d69b-eb3d-4511-c467-eb993e3cabde"
      },
      "outputs": [
        {
          "name": "stdout",
          "output_type": "stream",
          "text": [
            "313/313 [==============================] - 1s 3ms/step - loss: 0.0943 - accuracy: 0.9755\n",
            "0.09434574842453003 0.9754999876022339\n"
          ]
        }
      ],
      "source": [
        "#model8=activation(relu) & layers(256,128,64) & epochs(6)\n",
        "val_loss11 , val_Acc11=model11.evaluate(x_test,y_test)\n",
        "print(val_loss11 , val_Acc11)"
      ]
    },
    {
      "cell_type": "code",
      "execution_count": 64,
      "metadata": {
        "colab": {
          "base_uri": "https://localhost:8080/"
        },
        "id": "lxIBYexJaI9R",
        "outputId": "626e1554-0425-47f8-abcc-58be1ad03b93"
      },
      "outputs": [
        {
          "name": "stdout",
          "output_type": "stream",
          "text": [
            "         Activation      Layers No.of_Epochs  Train_Val_Acc  Test_Val_Acc\n",
            "model1         relu     128,128            3       0.978150        0.9703\n",
            "model2         tanh     128,128            3       0.965800        0.9637\n",
            "model3         selu     128,128            3       0.961500        0.9607\n",
            "model4          elu     128,128            3       0.967550        0.9624\n",
            "model5   leaky_relu     128,128            3       0.971967        0.9671\n",
            "model6        relu6     128,128            3       0.976950        0.9697\n",
            "model7         gelu     128,128            3       0.977150        0.9713\n",
            "model8         relu     256,128            6       0.990750        0.9752\n",
            "model9        relu6     256,128            6       0.990567        0.9759\n",
            "model10        gelu     256,128            6       0.992367        0.9776\n",
            "model11        relu  256,128,64            6       0.989700        0.9755\n"
          ]
        }
      ],
      "source": [
        "\n",
        "data = {\n",
        "\n",
        "    'Activation': ['relu', 'tanh', 'selu', 'elu', 'leaky_relu', 'relu6', 'gelu','relu', 'relu6', 'gelu', 'relu'],\n",
        "    'Layers': ['128,128', '128,128', '128,128', '128,128', '128,128', '128,128' ,'128,128', '256,128', '256,128', '256,128', '256,128,64'],\n",
        "    'No.of_Epochs':['3','3','3','3','3','3','3','6','6','6','6'],\n",
        "    'Train_Val_Acc': [history1.history['accuracy'][-1], history2.history['accuracy'][-1], history3.history['accuracy'][-1], history4.history['accuracy'][-1], history5.history['accuracy'][-1], history6.history['accuracy'][-1], history7.history['accuracy'][-1], history8.history['accuracy'][-1], history9.history['accuracy'][-1], history10.history['accuracy'][-1], history11.history['accuracy'][-1]],\n",
        "    'Test_Val_Acc': [val_Acc1, val_Acc2, val_Acc3, val_Acc4, val_Acc5, val_Acc6, val_Acc7, val_Acc8, val_Acc9, val_Acc10,  val_Acc11]\n",
        "}\n",
        "\n",
        "\n",
        "df = pd.DataFrame(data, index=['model1', 'model2', 'model3', 'model4', 'model5', 'model6', 'model7', 'model8', 'model9', 'model10', 'model11' ])\n",
        "\n",
        "print(df)\n"
      ]
    },
    {
      "cell_type": "code",
      "execution_count": 65,
      "metadata": {
        "colab": {
          "base_uri": "https://localhost:8080/"
        },
        "id": "8CbAFFmNZc_Y",
        "outputId": "374953e2-6507-46ea-d576-1864ae396bdd"
      },
      "outputs": [
        {
          "name": "stdout",
          "output_type": "stream",
          "text": [
            "        Activation   Layers No.of_Epochs  Train_Val_Acc  Test_Val_Acc\n",
            "model1        relu  128,128            3       0.978150        0.9703\n",
            "model7        gelu  128,128            3       0.977150        0.9713\n",
            "model6       relu6  128,128            3       0.976950        0.9697\n",
            "model5  leaky_relu  128,128            3       0.971967        0.9671\n",
            "model4         elu  128,128            3       0.967550        0.9624\n",
            "model2        tanh  128,128            3       0.965800        0.9637\n",
            "model3        selu  128,128            3       0.961500        0.9607\n"
          ]
        }
      ],
      "source": [
        "filtered_df = df[df['No.of_Epochs'] == '3']\n",
        "sorted_df = filtered_df.sort_values(by=['Train_Val_Acc', 'Test_Val_Acc'], ascending=False)\n",
        "print(sorted_df)"
      ]
    },
    {
      "cell_type": "code",
      "execution_count": 66,
      "metadata": {
        "colab": {
          "base_uri": "https://localhost:8080/"
        },
        "id": "XR9X4aVybQwy",
        "outputId": "a0f12dd0-ce7b-47e8-bec7-20f893e62a5f"
      },
      "outputs": [
        {
          "name": "stdout",
          "output_type": "stream",
          "text": [
            "Before update No.of_Epochs & No.of_Neurons\n",
            "       Activation   Layers No.of_Epochs  Train_Val_Acc  Test_Val_Acc\n",
            "model1       relu  128,128            3        0.97815        0.9703\n",
            "model7       gelu  128,128            3        0.97715        0.9713\n",
            "model6      relu6  128,128            3        0.97695        0.9697\n",
            "After update No.of_Epochs & No.of_Neruns\n",
            "        Activation      Layers No.of_Epochs  Train_Val_Acc  Test_Val_Acc\n",
            "model8        relu     256,128            6       0.990750        0.9752\n",
            "model9       relu6     256,128            6       0.990567        0.9759\n",
            "model10       gelu     256,128            6       0.992367        0.9776\n",
            "model11       relu  256,128,64            6       0.989700        0.9755\n"
          ]
        }
      ],
      "source": [
        "print('Before update No.of_Epochs & No.of_Neurons')\n",
        "filtered_df_before = sorted_df[sorted_df['Train_Val_Acc'] >= 0.975]\n",
        "print(filtered_df_before)\n",
        "print('After update No.of_Epochs & No.of_Neruns')\n",
        "filtered_df_after = df[df['No.of_Epochs'] == '6']\n",
        "print(filtered_df_after)"
      ]
    },
    {
      "cell_type": "code",
      "execution_count": 75,
      "metadata": {
        "colab": {
          "base_uri": "https://localhost:8080/",
          "height": 507
        },
        "id": "k7OnsoG9bAgV",
        "outputId": "643587df-15a5-4316-a152-e98880609f21"
      },
      "outputs": [
        {
          "data": {
            "image/png": "[encoded data removed]",
            "text/plain": [
              "<Figure size 1000x500 with 2 Axes>"
            ]
          },
          "metadata": {},
          "output_type": "display_data"
        }
      ],
      "source": [
        "import matplotlib.pyplot as plt\n",
        "\n",
        "# Data for plotting\n",
        "before_data = filtered_df_before[['Train_Val_Acc', 'Test_Val_Acc']]\n",
        "after_data = filtered_df_after[['Train_Val_Acc', 'Test_Val_Acc']]\n",
        "\n",
        "# Plotting before update\n",
        "plt.figure(figsize=(10, 5))\n",
        "plt.subplot(1, 2, 1)\n",
        "plt.bar(filtered_df_before.index, filtered_df_before['Train_Val_Acc'], color='lightgreen', label='Train Val Acc')\n",
        "plt.bar(filtered_df_before.index, filtered_df_before['Test_Val_Acc'], color='skyblue', label='Test Val Acc')\n",
        "plt.xlabel('Models')\n",
        "plt.ylabel('Accuracy')\n",
        "plt.title('Before update No.of_Epochs & No.of_Neurons')\n",
        "plt.ylim(0.9, 1.1)\n",
        "plt.xticks(rotation=45)\n",
        "plt.legend()\n",
        "\n",
        "# Annotating bars with their values\n",
        "for i, val in enumerate(filtered_df_before['Train_Val_Acc']):\n",
        "    plt.text(i, val, f'{val:.4f}', ha='center', va='bottom')\n",
        "\n",
        "for i, val in enumerate(filtered_df_before['Test_Val_Acc']):\n",
        "    plt.text(i, val, f'{val:.4f}', ha='center', va='bottom')\n",
        "\n",
        "# Plotting after update\n",
        "plt.subplot(1, 2, 2)\n",
        "plt.bar(filtered_df_after.index, filtered_df_after['Train_Val_Acc'], color='lightgreen', label='Train Val Acc')\n",
        "plt.bar(filtered_df_after.index, filtered_df_after['Test_Val_Acc'], color='skyblue', label='Test Val Acc')\n",
        "plt.xlabel('Models')\n",
        "plt.ylabel('Accuracy')\n",
        "plt.title('After update No.of_Epochs & No.of_Neurons')\n",
        "plt.ylim(0.9, 1.1)\n",
        "plt.xticks(rotation=45)\n",
        "plt.legend()\n",
        "\n",
        "# Annotating bars with their values\n",
        "for i, val in enumerate(filtered_df_after['Train_Val_Acc']):\n",
        "    plt.text(i, val, f'{val:.4f}', ha='center', va='bottom')\n",
        "\n",
        "for i, val in enumerate(filtered_df_after['Test_Val_Acc']):\n",
        "    plt.text(i, val, f'{val:.4f}', ha='center', va='bottom')\n",
        "\n",
        "plt.tight_layout()\n",
        "plt.show()\n"
      ]
    },
    {
      "cell_type": "code",
      "execution_count": 69,
      "metadata": {
        "colab": {
          "base_uri": "https://localhost:8080/"
        },
        "id": "Kd97opo0oIZy",
        "outputId": "0636dac4-a1f6-4cf2-a4d5-95ce46f944f1"
      },
      "outputs": [
        {
          "name": "stdout",
          "output_type": "stream",
          "text": [
            "Before update No.of_Layers\n",
            "       Activation   Layers No.of_Epochs  Train_Val_Acc  Test_Val_Acc\n",
            "model1       relu  128,128            3        0.97815        0.9703\n",
            "model8       relu  256,128            6        0.99075        0.9752\n",
            "After update No.of_Layers\n",
            "        Activation      Layers No.of_Epochs  Train_Val_Acc  Test_Val_Acc\n",
            "model11       relu  256,128,64            6         0.9897        0.9755\n"
          ]
        }
      ],
      "source": [
        "print('Before update No.of_Layers')\n",
        "layer_before = df[(df['Activation'] == 'relu') & ((df['Layers'] == '128,128') | (df['Layers'] == '256,128'))]\n",
        "print(layer_before)\n",
        "\n",
        "print('After update No.of_Layers')\n",
        "layer_after = df[(df['Activation'] == 'relu') & (df['Layers'] == '256,128,64')]\n",
        "print(layer_after)\n"
      ]
    },
    {
      "cell_type": "code",
      "execution_count": 71,
      "metadata": {
        "colab": {
          "base_uri": "https://localhost:8080/",
          "height": 507
        },
        "id": "JW5XK-nKqCJ5",
        "outputId": "409f1739-2ecb-41b2-c45c-32d22fd8a7e6"
      },
      "outputs": [
        {
          "data": {
            "image/png": "[encoded data removed]",
            "text/plain": [
              "<Figure size 1000x500 with 2 Axes>"
            ]
          },
          "metadata": {},
          "output_type": "display_data"
        }
      ],
      "source": [
        "\n",
        "# Filtered results before update\n",
        "plt.figure(figsize=(10, 5))\n",
        "plt.subplot(1, 2, 1)\n",
        "plt.bar(layer_before.index, layer_before['Train_Val_Acc'], color='lightgreen', label='Train Val Acc')\n",
        "plt.bar(layer_before.index, layer_before['Test_Val_Acc'], color='skyblue', label='Test Val Acc')\n",
        "plt.xlabel('Models')\n",
        "plt.ylabel('Accuracy')\n",
        "plt.title('Before Update: Models with No. of Layers (128,128) or (256,128)')\n",
        "plt.ylim(0.9, 1)\n",
        "plt.xticks(rotation=45)\n",
        "plt.legend()\n",
        "\n",
        "# Annotating bars with their values\n",
        "for i, val in enumerate(layer_before['Train_Val_Acc']):\n",
        "    plt.text(i, val, f'{val:.4f}', ha='center', va='bottom')\n",
        "\n",
        "for i, val in enumerate(layer_before['Test_Val_Acc']):\n",
        "    plt.text(i, val, f'{val:.4f}', ha='center', va='top')\n",
        "\n",
        "# Filtered results after update\n",
        "plt.subplot(1, 2, 2)\n",
        "plt.bar(layer_after.index, layer_after['Train_Val_Acc'], color='lightgreen', label='Train Val Acc')\n",
        "plt.bar(layer_after.index, layer_after['Test_Val_Acc'], color='skyblue', label='Test Val Acc')\n",
        "plt.xlabel('Models')\n",
        "plt.ylabel('Accuracy')\n",
        "plt.title('After Update: Models with No. of Layers (256,128,64)')\n",
        "plt.ylim(0.9, 1)\n",
        "plt.xticks(rotation=45)\n",
        "plt.legend()\n",
        "\n",
        "# Annotating bars with their values\n",
        "for i, val in enumerate(layer_after['Train_Val_Acc']):\n",
        "    plt.text(i, val, f'{val:.4f}', ha='center', va='bottom')\n",
        "\n",
        "for i, val in enumerate(layer_after['Test_Val_Acc']):\n",
        "    plt.text(i, val, f'{val:.4f}', ha='center', va='top')\n",
        "\n",
        "plt.tight_layout()\n",
        "plt.show()\n"
      ]
    },
    {
      "cell_type": "markdown",
      "metadata": {
        "id": "H_UOYAHyr3di"
      },
      "source": [
        "1. **Effect of Changing the Number of Layers**:\n",
        "   - Increasing the number of layers generally led to improved performance in terms of both train and test accuracy. For example, models with additional layers, such as model11, achieved higher accuracy compared to those with fewer layers (e.g., model1 to model7).\n",
        "\n",
        "2. **Impact of the Number of Neurons in a Layer**:\n",
        "   - Increasing the number of neurons, particularly in the first layer, tended to enhance model performance. For instance, models with more neurons in the first layer (e.g., model8, model9, model10) demonstrated higher accuracy compared to those with fewer neurons.\n",
        "\n",
        "3. **Comparison of Activation Functions**:\n",
        "   - Overall, 'relu' activation function performed well across different configurations. However, certain models with alternative activation functions like 'gelu' (e.g., model10) or 'relu6' (e.g., model9) also achieved comparable or slightly higher accuracy.\n",
        "   - Models with 'tanh', 'selu', and 'elu' activation functions generally exhibited slightly lower performance compared to 'relu'.\n",
        "\n",
        "In summary, increasing the complexity of the model by adding more layers and neurons can improve performance, while the choice of activation function, although impactful, did not drastically outperform the widely used 'relu' activation function in this scenario."
      ]
    },
    {
      "cell_type": "code",
      "execution_count": 58,
      "metadata": {
        "id": "xd-xfiNdg4U3"
      },
      "outputs": [],
      "source": [
        "model10.save('num_reader.model')"
      ]
    },
    {
      "cell_type": "code",
      "execution_count": 59,
      "metadata": {
        "id": "jUTK4hqRg_rt"
      },
      "outputs": [],
      "source": [
        "new_model=tf.keras.models.load_model('num_reader.model')"
      ]
    },
    {
      "cell_type": "code",
      "execution_count": 60,
      "metadata": {
        "colab": {
          "base_uri": "https://localhost:8080/"
        },
        "id": "lhhakrvMhJGK",
        "outputId": "f774d45e-ecb9-4cef-936c-0abde6f5610a"
      },
      "outputs": [
        {
          "name": "stdout",
          "output_type": "stream",
          "text": [
            "313/313 [==============================] - 1s 2ms/step\n",
            "[[8.9976172e-11 4.1864507e-08 4.3253587e-07 ... 9.9999923e-01\n",
            "  2.0113143e-12 2.5922853e-09]\n",
            " [1.4498773e-12 3.4375989e-05 9.9996406e-01 ... 2.3176259e-09\n",
            "  1.9847983e-10 8.4231569e-13]\n",
            " [1.9854307e-10 9.9999648e-01 1.5802755e-09 ... 2.3166658e-06\n",
            "  7.8747399e-07 3.2693662e-10]\n",
            " ...\n",
            " [1.0253606e-12 2.1767659e-09 4.1594250e-10 ... 3.1124196e-07\n",
            "  2.6437579e-08 2.0130027e-07]\n",
            " [3.2473833e-09 7.9321721e-10 9.3821131e-12 ... 2.4008339e-11\n",
            "  2.2099989e-06 1.1975593e-12]\n",
            " [3.9964334e-08 1.0906563e-09 2.2375121e-11 ... 1.8887353e-12\n",
            "  1.4162972e-10 3.5921516e-11]]\n"
          ]
        }
      ],
      "source": [
        "predictions=new_model.predict([x_test])\n",
        "print(predictions)"
      ]
    },
    {
      "cell_type": "code",
      "execution_count": null,
      "metadata": {
        "colab": {
          "base_uri": "https://localhost:8080/"
        },
        "id": "Q1P0oE-AhuWK",
        "outputId": "46336a69-8dc8-4ef5-e996-c411b3968e3d"
      },
      "outputs": [
        {
          "name": "stdout",
          "output_type": "stream",
          "text": [
            "3\n"
          ]
        }
      ],
      "source": [
        "print(np.argmax(predictions[200]))"
      ]
    },
    {
      "cell_type": "code",
      "execution_count": null,
      "metadata": {
        "colab": {
          "base_uri": "https://localhost:8080/",
          "height": 430
        },
        "id": "i_yfgE9wiDrj",
        "outputId": "9686aa64-93b7-4476-f458-51e9511c0598"
      },
      "outputs": [
        {
          "data": {
            "image/png": "[encoded data removed]",
            "text/plain": [
              "<Figure size 640x480 with 1 Axes>"
            ]
          },
          "metadata": {},
          "output_type": "display_data"
        }
      ],
      "source": [
        "plt.imshow(x_test[200])\n",
        "plt.show()"
      ]
    },
    {
      "cell_type": "code",
      "execution_count": null,
      "metadata": {
        "id": "3GPA6XkgiQFQ"
      },
      "outputs": [],
      "source": []
    }
  ],
  "metadata": {
    "colab": {
      "provenance": []
    },
    "kernelspec": {
      "display_name": "Python 3",
      "name": "python3"
    },
    "language_info": {
      "name": "python"
    }
  },
  "nbformat": 4,
  "nbformat_minor": 0
}
